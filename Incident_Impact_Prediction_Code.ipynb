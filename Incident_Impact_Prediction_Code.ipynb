{
 "cells": [
  {
   "cell_type": "markdown",
   "id": "6588cbc7",
   "metadata": {},
   "source": [
    "# Business Problem\n"
   ]
  },
  {
   "cell_type": "markdown",
   "id": "7b87ff91",
   "metadata": {},
   "source": [
    "#### To predict the impact of the incident raised by customer."
   ]
  },
  {
   "cell_type": "code",
   "execution_count": 1,
   "id": "4da772d7",
   "metadata": {
    "ExecuteTime": {
     "end_time": "2022-03-10T08:42:28.557946Z",
     "start_time": "2022-03-10T08:42:09.791773Z"
    }
   },
   "outputs": [],
   "source": [
    "#import libraries\n",
    "import pandas as pd\n",
    "import numpy as np\n",
    "import matplotlib.pyplot as plt\n",
    "import seaborn as sns"
   ]
  },
  {
   "cell_type": "markdown",
   "id": "9aca13df",
   "metadata": {},
   "source": [
    "# Exploratory Data Analysis (EDA) "
   ]
  },
  {
   "cell_type": "code",
   "execution_count": 2,
   "id": "d1105203",
   "metadata": {
    "ExecuteTime": {
     "end_time": "2022-03-10T08:42:33.142320Z",
     "start_time": "2022-03-10T08:42:30.810796Z"
    }
   },
   "outputs": [
    {
     "data": {
      "text/html": [
       "<div>\n",
       "<style scoped>\n",
       "    .dataframe tbody tr th:only-of-type {\n",
       "        vertical-align: middle;\n",
       "    }\n",
       "\n",
       "    .dataframe tbody tr th {\n",
       "        vertical-align: top;\n",
       "    }\n",
       "\n",
       "    .dataframe thead th {\n",
       "        text-align: right;\n",
       "    }\n",
       "</style>\n",
       "<table border=\"1\" class=\"dataframe\">\n",
       "  <thead>\n",
       "    <tr style=\"text-align: right;\">\n",
       "      <th></th>\n",
       "      <th>number</th>\n",
       "      <th>incident_state</th>\n",
       "      <th>active</th>\n",
       "      <th>reassignment_count</th>\n",
       "      <th>reopen_count</th>\n",
       "      <th>sys_mod_count</th>\n",
       "      <th>made_sla</th>\n",
       "      <th>caller_id</th>\n",
       "      <th>opened_by</th>\n",
       "      <th>opened_at</th>\n",
       "      <th>...</th>\n",
       "      <th>u_priority_confirmation</th>\n",
       "      <th>notify</th>\n",
       "      <th>problem_id</th>\n",
       "      <th>rfc</th>\n",
       "      <th>vendor</th>\n",
       "      <th>caused_by</th>\n",
       "      <th>closed_code</th>\n",
       "      <th>resolved_by</th>\n",
       "      <th>resolved_at</th>\n",
       "      <th>closed_at</th>\n",
       "    </tr>\n",
       "  </thead>\n",
       "  <tbody>\n",
       "    <tr>\n",
       "      <th>105049</th>\n",
       "      <td>INC0025468</td>\n",
       "      <td>New</td>\n",
       "      <td>True</td>\n",
       "      <td>0</td>\n",
       "      <td>0</td>\n",
       "      <td>0</td>\n",
       "      <td>True</td>\n",
       "      <td>Caller 487</td>\n",
       "      <td>Opened by  24</td>\n",
       "      <td>03-05-2016 14:27</td>\n",
       "      <td>...</td>\n",
       "      <td>False</td>\n",
       "      <td>Do Not Notify</td>\n",
       "      <td>?</td>\n",
       "      <td>?</td>\n",
       "      <td>?</td>\n",
       "      <td>?</td>\n",
       "      <td>code 6</td>\n",
       "      <td>Resolved by 155</td>\n",
       "      <td>04-05-2016 10:04</td>\n",
       "      <td>09-05-2016 10:07</td>\n",
       "    </tr>\n",
       "    <tr>\n",
       "      <th>134423</th>\n",
       "      <td>INC0032917</td>\n",
       "      <td>Closed</td>\n",
       "      <td>False</td>\n",
       "      <td>0</td>\n",
       "      <td>0</td>\n",
       "      <td>3</td>\n",
       "      <td>True</td>\n",
       "      <td>Caller 5151</td>\n",
       "      <td>Opened by  17</td>\n",
       "      <td>25-05-2016 10:20</td>\n",
       "      <td>...</td>\n",
       "      <td>True</td>\n",
       "      <td>Do Not Notify</td>\n",
       "      <td>?</td>\n",
       "      <td>?</td>\n",
       "      <td>?</td>\n",
       "      <td>?</td>\n",
       "      <td>code 6</td>\n",
       "      <td>Resolved by 177</td>\n",
       "      <td>25-05-2016 14:30</td>\n",
       "      <td>30-05-2016 15:07</td>\n",
       "    </tr>\n",
       "    <tr>\n",
       "      <th>120717</th>\n",
       "      <td>INC0029417</td>\n",
       "      <td>New</td>\n",
       "      <td>True</td>\n",
       "      <td>1</td>\n",
       "      <td>0</td>\n",
       "      <td>1</td>\n",
       "      <td>True</td>\n",
       "      <td>Caller 2819</td>\n",
       "      <td>Opened by  305</td>\n",
       "      <td>13-05-2016 21:44</td>\n",
       "      <td>...</td>\n",
       "      <td>False</td>\n",
       "      <td>Do Not Notify</td>\n",
       "      <td>?</td>\n",
       "      <td>?</td>\n",
       "      <td>?</td>\n",
       "      <td>?</td>\n",
       "      <td>code 3</td>\n",
       "      <td>Resolved by 134</td>\n",
       "      <td>13-05-2016 21:47</td>\n",
       "      <td>18-05-2016 22:07</td>\n",
       "    </tr>\n",
       "    <tr>\n",
       "      <th>49749</th>\n",
       "      <td>INC0011355</td>\n",
       "      <td>New</td>\n",
       "      <td>True</td>\n",
       "      <td>0</td>\n",
       "      <td>0</td>\n",
       "      <td>0</td>\n",
       "      <td>True</td>\n",
       "      <td>Caller 5382</td>\n",
       "      <td>Opened by  443</td>\n",
       "      <td>25-03-2016 04:32</td>\n",
       "      <td>...</td>\n",
       "      <td>False</td>\n",
       "      <td>Do Not Notify</td>\n",
       "      <td>?</td>\n",
       "      <td>?</td>\n",
       "      <td>?</td>\n",
       "      <td>?</td>\n",
       "      <td>code 7</td>\n",
       "      <td>Resolved by 189</td>\n",
       "      <td>25-03-2016 04:46</td>\n",
       "      <td>30-03-2016 04:59</td>\n",
       "    </tr>\n",
       "    <tr>\n",
       "      <th>135811</th>\n",
       "      <td>INC0033311</td>\n",
       "      <td>Active</td>\n",
       "      <td>True</td>\n",
       "      <td>1</td>\n",
       "      <td>0</td>\n",
       "      <td>2</td>\n",
       "      <td>True</td>\n",
       "      <td>Caller 3330</td>\n",
       "      <td>Opened by  301</td>\n",
       "      <td>27-05-2016 11:32</td>\n",
       "      <td>...</td>\n",
       "      <td>False</td>\n",
       "      <td>Do Not Notify</td>\n",
       "      <td>?</td>\n",
       "      <td>?</td>\n",
       "      <td>?</td>\n",
       "      <td>?</td>\n",
       "      <td>code 6</td>\n",
       "      <td>Resolved by 30</td>\n",
       "      <td>03-06-2016 09:53</td>\n",
       "      <td>08-06-2016 10:07</td>\n",
       "    </tr>\n",
       "  </tbody>\n",
       "</table>\n",
       "<p>5 rows × 36 columns</p>\n",
       "</div>"
      ],
      "text/plain": [
       "            number incident_state  active  reassignment_count  reopen_count  \\\n",
       "105049  INC0025468            New    True                   0             0   \n",
       "134423  INC0032917         Closed   False                   0             0   \n",
       "120717  INC0029417            New    True                   1             0   \n",
       "49749   INC0011355            New    True                   0             0   \n",
       "135811  INC0033311         Active    True                   1             0   \n",
       "\n",
       "        sys_mod_count  made_sla    caller_id       opened_by  \\\n",
       "105049              0      True   Caller 487   Opened by  24   \n",
       "134423              3      True  Caller 5151   Opened by  17   \n",
       "120717              1      True  Caller 2819  Opened by  305   \n",
       "49749               0      True  Caller 5382  Opened by  443   \n",
       "135811              2      True  Caller 3330  Opened by  301   \n",
       "\n",
       "               opened_at  ... u_priority_confirmation         notify  \\\n",
       "105049  03-05-2016 14:27  ...                   False  Do Not Notify   \n",
       "134423  25-05-2016 10:20  ...                    True  Do Not Notify   \n",
       "120717  13-05-2016 21:44  ...                   False  Do Not Notify   \n",
       "49749   25-03-2016 04:32  ...                   False  Do Not Notify   \n",
       "135811  27-05-2016 11:32  ...                   False  Do Not Notify   \n",
       "\n",
       "       problem_id rfc vendor caused_by closed_code      resolved_by  \\\n",
       "105049          ?   ?      ?         ?      code 6  Resolved by 155   \n",
       "134423          ?   ?      ?         ?      code 6  Resolved by 177   \n",
       "120717          ?   ?      ?         ?      code 3  Resolved by 134   \n",
       "49749           ?   ?      ?         ?      code 7  Resolved by 189   \n",
       "135811          ?   ?      ?         ?      code 6   Resolved by 30   \n",
       "\n",
       "             resolved_at         closed_at  \n",
       "105049  04-05-2016 10:04  09-05-2016 10:07  \n",
       "134423  25-05-2016 14:30  30-05-2016 15:07  \n",
       "120717  13-05-2016 21:47  18-05-2016 22:07  \n",
       "49749   25-03-2016 04:46  30-03-2016 04:59  \n",
       "135811  03-06-2016 09:53  08-06-2016 10:07  \n",
       "\n",
       "[5 rows x 36 columns]"
      ]
     },
     "execution_count": 2,
     "metadata": {},
     "output_type": "execute_result"
    }
   ],
   "source": [
    "#Read data\n",
    "data = pd.read_csv('incident_event_log.csv')  \n",
    "data.sample(5)"
   ]
  },
  {
   "cell_type": "code",
   "execution_count": 3,
   "id": "0c2f3e51",
   "metadata": {
    "ExecuteTime": {
     "end_time": "2022-03-10T08:42:33.908751Z",
     "start_time": "2022-03-10T08:42:33.346888Z"
    }
   },
   "outputs": [
    {
     "name": "stdout",
     "output_type": "stream",
     "text": [
      "<class 'pandas.core.frame.DataFrame'>\n",
      "RangeIndex: 141712 entries, 0 to 141711\n",
      "Data columns (total 36 columns):\n",
      " #   Column                   Non-Null Count   Dtype \n",
      "---  ------                   --------------   ----- \n",
      " 0   number                   141712 non-null  object\n",
      " 1   incident_state           141712 non-null  object\n",
      " 2   active                   141712 non-null  bool  \n",
      " 3   reassignment_count       141712 non-null  int64 \n",
      " 4   reopen_count             141712 non-null  int64 \n",
      " 5   sys_mod_count            141712 non-null  int64 \n",
      " 6   made_sla                 141712 non-null  bool  \n",
      " 7   caller_id                141712 non-null  object\n",
      " 8   opened_by                141712 non-null  object\n",
      " 9   opened_at                141712 non-null  object\n",
      " 10  sys_created_by           141712 non-null  object\n",
      " 11  sys_created_at           141712 non-null  object\n",
      " 12  sys_updated_by           141712 non-null  object\n",
      " 13  sys_updated_at           141712 non-null  object\n",
      " 14  contact_type             141712 non-null  object\n",
      " 15  location                 141712 non-null  object\n",
      " 16  category                 141712 non-null  object\n",
      " 17  subcategory              141712 non-null  object\n",
      " 18  u_symptom                141712 non-null  object\n",
      " 19  cmdb_ci                  141712 non-null  object\n",
      " 20  impact                   141712 non-null  object\n",
      " 21  urgency                  141712 non-null  object\n",
      " 22  priority                 141712 non-null  object\n",
      " 23  assignment_group         141712 non-null  object\n",
      " 24  assigned_to              141712 non-null  object\n",
      " 25  knowledge                141712 non-null  bool  \n",
      " 26  u_priority_confirmation  141712 non-null  bool  \n",
      " 27  notify                   141712 non-null  object\n",
      " 28  problem_id               141712 non-null  object\n",
      " 29  rfc                      141712 non-null  object\n",
      " 30  vendor                   141712 non-null  object\n",
      " 31  caused_by                141712 non-null  object\n",
      " 32  closed_code              141712 non-null  object\n",
      " 33  resolved_by              141712 non-null  object\n",
      " 34  resolved_at              141712 non-null  object\n",
      " 35  closed_at                141712 non-null  object\n",
      "dtypes: bool(4), int64(3), object(29)\n",
      "memory usage: 35.1+ MB\n"
     ]
    }
   ],
   "source": [
    "data.info()"
   ]
  },
  {
   "cell_type": "code",
   "execution_count": 4,
   "id": "d4c2931a",
   "metadata": {
    "ExecuteTime": {
     "end_time": "2022-03-10T08:42:34.453269Z",
     "start_time": "2022-03-10T08:42:34.154673Z"
    }
   },
   "outputs": [],
   "source": [
    "# Replacing ''?\" with nan\n",
    "data1 = data.replace('?', np.nan)"
   ]
  },
  {
   "cell_type": "code",
   "execution_count": 5,
   "id": "cf745e38",
   "metadata": {
    "ExecuteTime": {
     "end_time": "2022-03-10T08:42:35.383508Z",
     "start_time": "2022-03-10T08:42:35.325468Z"
    }
   },
   "outputs": [
    {
     "data": {
      "text/html": [
       "<div>\n",
       "<style scoped>\n",
       "    .dataframe tbody tr th:only-of-type {\n",
       "        vertical-align: middle;\n",
       "    }\n",
       "\n",
       "    .dataframe tbody tr th {\n",
       "        vertical-align: top;\n",
       "    }\n",
       "\n",
       "    .dataframe thead th {\n",
       "        text-align: right;\n",
       "    }\n",
       "</style>\n",
       "<table border=\"1\" class=\"dataframe\">\n",
       "  <thead>\n",
       "    <tr style=\"text-align: right;\">\n",
       "      <th></th>\n",
       "      <th>number</th>\n",
       "      <th>incident_state</th>\n",
       "      <th>active</th>\n",
       "      <th>reassignment_count</th>\n",
       "      <th>reopen_count</th>\n",
       "      <th>sys_mod_count</th>\n",
       "      <th>made_sla</th>\n",
       "      <th>caller_id</th>\n",
       "      <th>opened_by</th>\n",
       "      <th>opened_at</th>\n",
       "      <th>...</th>\n",
       "      <th>u_priority_confirmation</th>\n",
       "      <th>notify</th>\n",
       "      <th>problem_id</th>\n",
       "      <th>rfc</th>\n",
       "      <th>vendor</th>\n",
       "      <th>caused_by</th>\n",
       "      <th>closed_code</th>\n",
       "      <th>resolved_by</th>\n",
       "      <th>resolved_at</th>\n",
       "      <th>closed_at</th>\n",
       "    </tr>\n",
       "  </thead>\n",
       "  <tbody>\n",
       "    <tr>\n",
       "      <th>9290</th>\n",
       "      <td>INC0002138</td>\n",
       "      <td>New</td>\n",
       "      <td>True</td>\n",
       "      <td>5</td>\n",
       "      <td>0</td>\n",
       "      <td>7</td>\n",
       "      <td>True</td>\n",
       "      <td>Caller 723</td>\n",
       "      <td>NaN</td>\n",
       "      <td>03-03-2016 17:25</td>\n",
       "      <td>...</td>\n",
       "      <td>False</td>\n",
       "      <td>Do Not Notify</td>\n",
       "      <td>NaN</td>\n",
       "      <td>NaN</td>\n",
       "      <td>NaN</td>\n",
       "      <td>NaN</td>\n",
       "      <td>code 6</td>\n",
       "      <td>Resolved by 62</td>\n",
       "      <td>31-05-2016 15:45</td>\n",
       "      <td>05-06-2016 16:07</td>\n",
       "    </tr>\n",
       "    <tr>\n",
       "      <th>138292</th>\n",
       "      <td>INC0033951</td>\n",
       "      <td>Closed</td>\n",
       "      <td>False</td>\n",
       "      <td>2</td>\n",
       "      <td>0</td>\n",
       "      <td>6</td>\n",
       "      <td>True</td>\n",
       "      <td>Caller 3790</td>\n",
       "      <td>Opened by  17</td>\n",
       "      <td>30-05-2016 16:53</td>\n",
       "      <td>...</td>\n",
       "      <td>True</td>\n",
       "      <td>Do Not Notify</td>\n",
       "      <td>NaN</td>\n",
       "      <td>NaN</td>\n",
       "      <td>NaN</td>\n",
       "      <td>NaN</td>\n",
       "      <td>code 6</td>\n",
       "      <td>Resolved by 27</td>\n",
       "      <td>01-06-2016 08:36</td>\n",
       "      <td>06-06-2016 09:07</td>\n",
       "    </tr>\n",
       "    <tr>\n",
       "      <th>91072</th>\n",
       "      <td>INC0021907</td>\n",
       "      <td>Active</td>\n",
       "      <td>True</td>\n",
       "      <td>0</td>\n",
       "      <td>0</td>\n",
       "      <td>1</td>\n",
       "      <td>True</td>\n",
       "      <td>Caller 3548</td>\n",
       "      <td>Opened by  463</td>\n",
       "      <td>23-04-2016 01:44</td>\n",
       "      <td>...</td>\n",
       "      <td>False</td>\n",
       "      <td>Do Not Notify</td>\n",
       "      <td>NaN</td>\n",
       "      <td>NaN</td>\n",
       "      <td>NaN</td>\n",
       "      <td>NaN</td>\n",
       "      <td>code 7</td>\n",
       "      <td>Resolved by 199</td>\n",
       "      <td>23-04-2016 01:52</td>\n",
       "      <td>28-04-2016 02:07</td>\n",
       "    </tr>\n",
       "    <tr>\n",
       "      <th>140572</th>\n",
       "      <td>INC0083078</td>\n",
       "      <td>Active</td>\n",
       "      <td>True</td>\n",
       "      <td>0</td>\n",
       "      <td>0</td>\n",
       "      <td>0</td>\n",
       "      <td>True</td>\n",
       "      <td>Caller 4316</td>\n",
       "      <td>Opened by  141</td>\n",
       "      <td>03-11-2016 10:10</td>\n",
       "      <td>...</td>\n",
       "      <td>False</td>\n",
       "      <td>Do Not Notify</td>\n",
       "      <td>NaN</td>\n",
       "      <td>NaN</td>\n",
       "      <td>NaN</td>\n",
       "      <td>NaN</td>\n",
       "      <td>code 6</td>\n",
       "      <td>Resolved by 68</td>\n",
       "      <td>03-11-2016 10:27</td>\n",
       "      <td>08-11-2016 11:00</td>\n",
       "    </tr>\n",
       "    <tr>\n",
       "      <th>76261</th>\n",
       "      <td>INC0018079</td>\n",
       "      <td>Awaiting User Info</td>\n",
       "      <td>True</td>\n",
       "      <td>0</td>\n",
       "      <td>0</td>\n",
       "      <td>6</td>\n",
       "      <td>True</td>\n",
       "      <td>Caller 2459</td>\n",
       "      <td>Opened by  17</td>\n",
       "      <td>12-04-2016 11:29</td>\n",
       "      <td>...</td>\n",
       "      <td>False</td>\n",
       "      <td>Do Not Notify</td>\n",
       "      <td>NaN</td>\n",
       "      <td>NaN</td>\n",
       "      <td>NaN</td>\n",
       "      <td>NaN</td>\n",
       "      <td>code 9</td>\n",
       "      <td>Resolved by 231</td>\n",
       "      <td>13-04-2016 14:03</td>\n",
       "      <td>18-04-2016 14:07</td>\n",
       "    </tr>\n",
       "  </tbody>\n",
       "</table>\n",
       "<p>5 rows × 36 columns</p>\n",
       "</div>"
      ],
      "text/plain": [
       "            number      incident_state  active  reassignment_count  \\\n",
       "9290    INC0002138                 New    True                   5   \n",
       "138292  INC0033951              Closed   False                   2   \n",
       "91072   INC0021907              Active    True                   0   \n",
       "140572  INC0083078              Active    True                   0   \n",
       "76261   INC0018079  Awaiting User Info    True                   0   \n",
       "\n",
       "        reopen_count  sys_mod_count  made_sla    caller_id       opened_by  \\\n",
       "9290               0              7      True   Caller 723             NaN   \n",
       "138292             0              6      True  Caller 3790   Opened by  17   \n",
       "91072              0              1      True  Caller 3548  Opened by  463   \n",
       "140572             0              0      True  Caller 4316  Opened by  141   \n",
       "76261              0              6      True  Caller 2459   Opened by  17   \n",
       "\n",
       "               opened_at  ... u_priority_confirmation         notify  \\\n",
       "9290    03-03-2016 17:25  ...                   False  Do Not Notify   \n",
       "138292  30-05-2016 16:53  ...                    True  Do Not Notify   \n",
       "91072   23-04-2016 01:44  ...                   False  Do Not Notify   \n",
       "140572  03-11-2016 10:10  ...                   False  Do Not Notify   \n",
       "76261   12-04-2016 11:29  ...                   False  Do Not Notify   \n",
       "\n",
       "       problem_id  rfc vendor caused_by closed_code      resolved_by  \\\n",
       "9290          NaN  NaN    NaN       NaN      code 6   Resolved by 62   \n",
       "138292        NaN  NaN    NaN       NaN      code 6   Resolved by 27   \n",
       "91072         NaN  NaN    NaN       NaN      code 7  Resolved by 199   \n",
       "140572        NaN  NaN    NaN       NaN      code 6   Resolved by 68   \n",
       "76261         NaN  NaN    NaN       NaN      code 9  Resolved by 231   \n",
       "\n",
       "             resolved_at         closed_at  \n",
       "9290    31-05-2016 15:45  05-06-2016 16:07  \n",
       "138292  01-06-2016 08:36  06-06-2016 09:07  \n",
       "91072   23-04-2016 01:52  28-04-2016 02:07  \n",
       "140572  03-11-2016 10:27  08-11-2016 11:00  \n",
       "76261   13-04-2016 14:03  18-04-2016 14:07  \n",
       "\n",
       "[5 rows x 36 columns]"
      ]
     },
     "execution_count": 5,
     "metadata": {},
     "output_type": "execute_result"
    }
   ],
   "source": [
    "data1.sample(5)"
   ]
  },
  {
   "cell_type": "code",
   "execution_count": 6,
   "id": "fcd38ca8",
   "metadata": {
    "ExecuteTime": {
     "end_time": "2022-03-10T08:42:50.551054Z",
     "start_time": "2022-03-10T08:42:36.455834Z"
    }
   },
   "outputs": [
    {
     "data": {
      "text/plain": [
       "<AxesSubplot:>"
      ]
     },
     "execution_count": 6,
     "metadata": {},
     "output_type": "execute_result"
    },
    {
     "data": {
      "image/png": "[encoded data removed]",
      "text/plain": [
       "<Figure size 432x288 with 1 Axes>"
      ]
     },
     "metadata": {
      "needs_background": "light"
     },
     "output_type": "display_data"
    }
   ],
   "source": [
    "#Vizuvalizing of null values\n",
    "sns.heatmap(data1.isnull(),yticklabels=False,cbar=False,cmap='viridis')"
   ]
  },
  {
   "cell_type": "markdown",
   "id": "71706d0d",
   "metadata": {},
   "source": [
    "#### From this Heat Map, Dataset contains more missing values.\n"
   ]
  },
  {
   "cell_type": "code",
   "execution_count": 7,
   "id": "7472966b",
   "metadata": {
    "ExecuteTime": {
     "end_time": "2022-03-10T08:42:55.804358Z",
     "start_time": "2022-03-10T08:42:54.852461Z"
    }
   },
   "outputs": [
    {
     "name": "stdout",
     "output_type": "stream",
     "text": [
      "PERCENTAGE OF MISSING VALUES\n"
     ]
    },
    {
     "data": {
      "text/plain": [
       "number                      0.000000\n",
       "incident_state              0.000000\n",
       "active                      0.000000\n",
       "reassignment_count          0.000000\n",
       "reopen_count                0.000000\n",
       "sys_mod_count               0.000000\n",
       "made_sla                    0.000000\n",
       "caller_id                   0.020464\n",
       "opened_by                   3.411849\n",
       "opened_at                   0.000000\n",
       "sys_created_by             37.453427\n",
       "sys_created_at             37.453427\n",
       "sys_updated_by              0.000000\n",
       "sys_updated_at              0.000000\n",
       "contact_type                0.000000\n",
       "location                    0.053630\n",
       "category                    0.055041\n",
       "subcategory                 0.078328\n",
       "u_symptom                  23.261262\n",
       "cmdb_ci                    99.685983\n",
       "impact                      0.000000\n",
       "urgency                     0.000000\n",
       "priority                    0.000000\n",
       "assignment_group           10.029496\n",
       "assigned_to                19.402732\n",
       "knowledge                   0.000000\n",
       "u_priority_confirmation     0.000000\n",
       "notify                      0.000000\n",
       "problem_id                 98.380518\n",
       "rfc                        99.300694\n",
       "vendor                     99.827820\n",
       "caused_by                  99.983770\n",
       "closed_code                 0.503839\n",
       "resolved_by                 0.159478\n",
       "resolved_at                 2.216467\n",
       "closed_at                   0.000000\n",
       "dtype: float64"
      ]
     },
     "execution_count": 7,
     "metadata": {},
     "output_type": "execute_result"
    }
   ],
   "source": [
    "# Checking percentages of missing values in the given dataset.\n",
    "print('percentage of missing values'.upper())\n",
    "data1.isnull().sum()/data1.shape[0]*100 "
   ]
  },
  {
   "cell_type": "code",
   "execution_count": 8,
   "id": "1ba2ac6d",
   "metadata": {
    "ExecuteTime": {
     "end_time": "2022-03-10T08:42:57.493844Z",
     "start_time": "2022-03-10T08:42:56.643154Z"
    }
   },
   "outputs": [
    {
     "data": {
      "image/png": "[encoded data removed]",
      "text/plain": [
       "<Figure size 1080x576 with 1 Axes>"
      ]
     },
     "metadata": {
      "needs_background": "light"
     },
     "output_type": "display_data"
    }
   ],
   "source": [
    "#Countplot for incident_state\n",
    "plt.figure(figsize=(15,8))\n",
    "sns.countplot(x='incident_state',data=data1)\n",
    "plt.show()"
   ]
  },
  {
   "cell_type": "markdown",
   "id": "05f67c2f",
   "metadata": {},
   "source": [
    "#### Most of the incident states are in active state."
   ]
  },
  {
   "cell_type": "code",
   "execution_count": 9,
   "id": "c86b757b",
   "metadata": {
    "ExecuteTime": {
     "end_time": "2022-03-10T08:43:01.738572Z",
     "start_time": "2022-03-10T08:43:01.203926Z"
    }
   },
   "outputs": [
    {
     "data": {
      "image/png": "[encoded data removed]",
      "text/plain": [
       "<Figure size 1080x576 with 1 Axes>"
      ]
     },
     "metadata": {
      "needs_background": "light"
     },
     "output_type": "display_data"
    }
   ],
   "source": [
    "#Countplot for active\n",
    "plt.figure(figsize=(15,8))\n",
    "sns.countplot(x='active',data=data1)\n",
    "plt.show()"
   ]
  },
  {
   "cell_type": "markdown",
   "id": "46ef61e1",
   "metadata": {},
   "source": [
    "#### Proportion of high impact on active cases."
   ]
  },
  {
   "cell_type": "code",
   "execution_count": 10,
   "id": "0b1936f7",
   "metadata": {
    "ExecuteTime": {
     "end_time": "2022-03-10T08:43:03.863291Z",
     "start_time": "2022-03-10T08:43:03.337435Z"
    }
   },
   "outputs": [
    {
     "data": {
      "image/png": "[encoded data removed]",
      "text/plain": [
       "<Figure size 1080x576 with 1 Axes>"
      ]
     },
     "metadata": {
      "needs_background": "light"
     },
     "output_type": "display_data"
    }
   ],
   "source": [
    "#Countplot for contact_type\n",
    "plt.figure(figsize=(15,8))\n",
    "sns.countplot(x='contact_type',data=data1)\n",
    "plt.show()"
   ]
  },
  {
   "cell_type": "markdown",
   "id": "b7aae3d3",
   "metadata": {},
   "source": [
    "#### Most of the Incidents registered through mobile which has high impact."
   ]
  },
  {
   "cell_type": "code",
   "execution_count": 11,
   "id": "7d23482f",
   "metadata": {
    "ExecuteTime": {
     "end_time": "2022-03-10T08:43:07.888378Z",
     "start_time": "2022-03-10T08:43:07.591992Z"
    }
   },
   "outputs": [
    {
     "data": {
      "image/png": "[encoded data removed]",
      "text/plain": [
       "<Figure size 1080x576 with 1 Axes>"
      ]
     },
     "metadata": {
      "needs_background": "light"
     },
     "output_type": "display_data"
    }
   ],
   "source": [
    "#Countplot for knowledge\n",
    "plt.figure(figsize=(15,8))\n",
    "sns.countplot(x='knowledge',data=data1)\n",
    "plt.show()"
   ]
  },
  {
   "cell_type": "markdown",
   "id": "5487b771",
   "metadata": {},
   "source": [
    "#### Proportion of high impact while working according to dataset."
   ]
  },
  {
   "cell_type": "code",
   "execution_count": 12,
   "id": "4e106be3",
   "metadata": {
    "ExecuteTime": {
     "end_time": "2022-03-10T08:43:10.938226Z",
     "start_time": "2022-03-10T08:43:10.527806Z"
    }
   },
   "outputs": [
    {
     "data": {
      "image/png": "[encoded data removed]",
      "text/plain": [
       "<Figure size 1080x576 with 1 Axes>"
      ]
     },
     "metadata": {
      "needs_background": "light"
     },
     "output_type": "display_data"
    }
   ],
   "source": [
    "#Countplot for urgency\n",
    "plt.figure(figsize=(15,8))\n",
    "sns.countplot(x='urgency',data=data1)\n",
    "plt.show()"
   ]
  },
  {
   "cell_type": "markdown",
   "id": "086f0899",
   "metadata": {},
   "source": [
    "#### Most of the incidents are 2-Medium level urgency."
   ]
  },
  {
   "cell_type": "code",
   "execution_count": 13,
   "id": "9d45c553",
   "metadata": {
    "ExecuteTime": {
     "end_time": "2022-03-10T08:43:15.328011Z",
     "start_time": "2022-03-10T08:43:14.896352Z"
    }
   },
   "outputs": [
    {
     "data": {
      "image/png": "[encoded data removed]",
      "text/plain": [
       "<Figure size 1080x576 with 1 Axes>"
      ]
     },
     "metadata": {
      "needs_background": "light"
     },
     "output_type": "display_data"
    }
   ],
   "source": [
    "#Countplot for priority\n",
    "plt.figure(figsize=(15,8))\n",
    "sns.countplot(x='priority',data=data1)\n",
    "plt.show()"
   ]
  },
  {
   "cell_type": "markdown",
   "id": "0106c2ae",
   "metadata": {},
   "source": [
    "#### Most of the incidents are 3-Moderate state priority."
   ]
  },
  {
   "cell_type": "code",
   "execution_count": 14,
   "id": "87118866",
   "metadata": {
    "ExecuteTime": {
     "end_time": "2022-03-10T08:43:17.804148Z",
     "start_time": "2022-03-10T08:43:17.665048Z"
    }
   },
   "outputs": [
    {
     "data": {
      "text/html": [
       "<div>\n",
       "<style scoped>\n",
       "    .dataframe tbody tr th:only-of-type {\n",
       "        vertical-align: middle;\n",
       "    }\n",
       "\n",
       "    .dataframe tbody tr th {\n",
       "        vertical-align: top;\n",
       "    }\n",
       "\n",
       "    .dataframe thead th {\n",
       "        text-align: right;\n",
       "    }\n",
       "</style>\n",
       "<table border=\"1\" class=\"dataframe\">\n",
       "  <thead>\n",
       "    <tr style=\"text-align: right;\">\n",
       "      <th></th>\n",
       "      <th>active</th>\n",
       "      <th>reassignment_count</th>\n",
       "      <th>reopen_count</th>\n",
       "      <th>sys_mod_count</th>\n",
       "      <th>made_sla</th>\n",
       "      <th>knowledge</th>\n",
       "      <th>u_priority_confirmation</th>\n",
       "    </tr>\n",
       "  </thead>\n",
       "  <tbody>\n",
       "    <tr>\n",
       "      <th>active</th>\n",
       "      <td>1.000000</td>\n",
       "      <td>0.043323</td>\n",
       "      <td>0.019083</td>\n",
       "      <td>-0.097202</td>\n",
       "      <td>0.565501</td>\n",
       "      <td>0.043711</td>\n",
       "      <td>-0.488946</td>\n",
       "    </tr>\n",
       "    <tr>\n",
       "      <th>reassignment_count</th>\n",
       "      <td>0.043323</td>\n",
       "      <td>1.000000</td>\n",
       "      <td>0.160193</td>\n",
       "      <td>0.527919</td>\n",
       "      <td>-0.089037</td>\n",
       "      <td>0.082968</td>\n",
       "      <td>-0.000441</td>\n",
       "    </tr>\n",
       "    <tr>\n",
       "      <th>reopen_count</th>\n",
       "      <td>0.019083</td>\n",
       "      <td>0.160193</td>\n",
       "      <td>1.000000</td>\n",
       "      <td>0.247292</td>\n",
       "      <td>-0.015880</td>\n",
       "      <td>0.006847</td>\n",
       "      <td>0.131248</td>\n",
       "    </tr>\n",
       "    <tr>\n",
       "      <th>sys_mod_count</th>\n",
       "      <td>-0.097202</td>\n",
       "      <td>0.527919</td>\n",
       "      <td>0.247292</td>\n",
       "      <td>1.000000</td>\n",
       "      <td>-0.241942</td>\n",
       "      <td>0.065103</td>\n",
       "      <td>0.185867</td>\n",
       "    </tr>\n",
       "    <tr>\n",
       "      <th>made_sla</th>\n",
       "      <td>0.565501</td>\n",
       "      <td>-0.089037</td>\n",
       "      <td>-0.015880</td>\n",
       "      <td>-0.241942</td>\n",
       "      <td>1.000000</td>\n",
       "      <td>-0.073070</td>\n",
       "      <td>-0.232037</td>\n",
       "    </tr>\n",
       "    <tr>\n",
       "      <th>knowledge</th>\n",
       "      <td>0.043711</td>\n",
       "      <td>0.082968</td>\n",
       "      <td>0.006847</td>\n",
       "      <td>0.065103</td>\n",
       "      <td>-0.073070</td>\n",
       "      <td>1.000000</td>\n",
       "      <td>-0.221054</td>\n",
       "    </tr>\n",
       "    <tr>\n",
       "      <th>u_priority_confirmation</th>\n",
       "      <td>-0.488946</td>\n",
       "      <td>-0.000441</td>\n",
       "      <td>0.131248</td>\n",
       "      <td>0.185867</td>\n",
       "      <td>-0.232037</td>\n",
       "      <td>-0.221054</td>\n",
       "      <td>1.000000</td>\n",
       "    </tr>\n",
       "  </tbody>\n",
       "</table>\n",
       "</div>"
      ],
      "text/plain": [
       "                           active  reassignment_count  reopen_count  \\\n",
       "active                   1.000000            0.043323      0.019083   \n",
       "reassignment_count       0.043323            1.000000      0.160193   \n",
       "reopen_count             0.019083            0.160193      1.000000   \n",
       "sys_mod_count           -0.097202            0.527919      0.247292   \n",
       "made_sla                 0.565501           -0.089037     -0.015880   \n",
       "knowledge                0.043711            0.082968      0.006847   \n",
       "u_priority_confirmation -0.488946           -0.000441      0.131248   \n",
       "\n",
       "                         sys_mod_count  made_sla  knowledge  \\\n",
       "active                       -0.097202  0.565501   0.043711   \n",
       "reassignment_count            0.527919 -0.089037   0.082968   \n",
       "reopen_count                  0.247292 -0.015880   0.006847   \n",
       "sys_mod_count                 1.000000 -0.241942   0.065103   \n",
       "made_sla                     -0.241942  1.000000  -0.073070   \n",
       "knowledge                     0.065103 -0.073070   1.000000   \n",
       "u_priority_confirmation       0.185867 -0.232037  -0.221054   \n",
       "\n",
       "                         u_priority_confirmation  \n",
       "active                                 -0.488946  \n",
       "reassignment_count                     -0.000441  \n",
       "reopen_count                            0.131248  \n",
       "sys_mod_count                           0.185867  \n",
       "made_sla                               -0.232037  \n",
       "knowledge                              -0.221054  \n",
       "u_priority_confirmation                 1.000000  "
      ]
     },
     "execution_count": 14,
     "metadata": {},
     "output_type": "execute_result"
    }
   ],
   "source": [
    "# Relationship Analysis\n",
    "\n",
    "correlation = data.corr()\n",
    "correlation"
   ]
  },
  {
   "cell_type": "code",
   "execution_count": 15,
   "id": "e0645060",
   "metadata": {
    "ExecuteTime": {
     "end_time": "2022-03-10T08:43:32.005960Z",
     "start_time": "2022-03-10T08:43:29.976682Z"
    }
   },
   "outputs": [
    {
     "data": {
      "image/png": "[encoded data removed]",
      "text/plain": [
       "<Figure size 1080x576 with 1 Axes>"
      ]
     },
     "metadata": {
      "needs_background": "light"
     },
     "output_type": "display_data"
    }
   ],
   "source": [
    "#Vizuvalizing out liers\n",
    "plt.figure(figsize=(15,8))\n",
    "data=data1.iloc[:,1:]\n",
    "sns.boxplot(data=data)\n",
    "plt.show()"
   ]
  },
  {
   "cell_type": "markdown",
   "id": "42f254cb",
   "metadata": {},
   "source": [
    "#### From these Box Plots, Dataset contains More outliers."
   ]
  },
  {
   "cell_type": "code",
   "execution_count": 16,
   "id": "f24ae675",
   "metadata": {
    "ExecuteTime": {
     "end_time": "2022-03-10T08:43:33.064091Z",
     "start_time": "2022-03-10T08:43:32.856077Z"
    }
   },
   "outputs": [],
   "source": [
    "#droping of unwanted features\n",
    "data1.drop(['number','opened_by','sys_created_by','sys_created_at','sys_updated_by','sys_updated_at','cmdb_ci','problem_id',\n",
    "           'rfc','vendor','caller_id','assignment_group','assigned_to','resolved_by','caused_by','closed_code',\n",
    "           'closed_at'],axis=1,inplace=True)"
   ]
  },
  {
   "cell_type": "code",
   "execution_count": 17,
   "id": "5000e0e6",
   "metadata": {
    "ExecuteTime": {
     "end_time": "2022-03-10T08:43:34.024379Z",
     "start_time": "2022-03-10T08:43:33.864350Z"
    }
   },
   "outputs": [
    {
     "data": {
      "text/plain": [
       "incident_state                 0\n",
       "active                         0\n",
       "reassignment_count             0\n",
       "reopen_count                   0\n",
       "sys_mod_count                  0\n",
       "made_sla                       0\n",
       "opened_at                      0\n",
       "contact_type                   0\n",
       "location                      76\n",
       "category                      78\n",
       "subcategory                  111\n",
       "u_symptom                  32964\n",
       "impact                         0\n",
       "urgency                        0\n",
       "priority                       0\n",
       "knowledge                      0\n",
       "u_priority_confirmation        0\n",
       "notify                         0\n",
       "resolved_at                 3141\n",
       "dtype: int64"
      ]
     },
     "execution_count": 17,
     "metadata": {},
     "output_type": "execute_result"
    }
   ],
   "source": [
    "#checking of null values\n",
    "data1.isnull().sum()"
   ]
  },
  {
   "cell_type": "code",
   "execution_count": 18,
   "id": "443a8789",
   "metadata": {
    "ExecuteTime": {
     "end_time": "2022-03-10T08:43:39.369532Z",
     "start_time": "2022-03-10T08:43:34.791724Z"
    }
   },
   "outputs": [
    {
     "data": {
      "text/plain": [
       "<AxesSubplot:>"
      ]
     },
     "execution_count": 18,
     "metadata": {},
     "output_type": "execute_result"
    },
    {
     "data": {
      "image/png": "[encoded data removed]",
      "text/plain": [
       "<Figure size 432x288 with 1 Axes>"
      ]
     },
     "metadata": {
      "needs_background": "light"
     },
     "output_type": "display_data"
    }
   ],
   "source": [
    "#Vizuvalizing of null values\n",
    "sns.heatmap(data1.isnull(),yticklabels=False,cbar=False,cmap='viridis')"
   ]
  },
  {
   "cell_type": "markdown",
   "id": "afbddbd3",
   "metadata": {},
   "source": [
    "#### From this Heat Map, Dataset contains few missing values."
   ]
  },
  {
   "cell_type": "code",
   "execution_count": 19,
   "id": "0b99e6fd",
   "metadata": {
    "ExecuteTime": {
     "end_time": "2022-03-10T08:43:40.923285Z",
     "start_time": "2022-03-10T08:43:40.320239Z"
    }
   },
   "outputs": [
    {
     "data": {
      "text/plain": [
       "118039    Symptom 491\n",
       "112962    Symptom 115\n",
       "73885     Symptom 534\n",
       "64338     Symptom 102\n",
       "39846     Symptom 491\n",
       "Name: u_symptom, dtype: object"
      ]
     },
     "execution_count": 19,
     "metadata": {},
     "output_type": "execute_result"
    }
   ],
   "source": [
    "#Random Sampling Imputation for 'u_symptom' feature\n",
    "data1['u_symptom'].dropna().sample(data1['u_symptom'].isnull().sum(),random_state=0).head()"
   ]
  },
  {
   "cell_type": "code",
   "execution_count": 20,
   "id": "abaa842a",
   "metadata": {
    "ExecuteTime": {
     "end_time": "2022-03-10T08:43:41.695728Z",
     "start_time": "2022-03-10T08:43:41.647742Z"
    }
   },
   "outputs": [],
   "source": [
    "random_sample=data1['u_symptom'].dropna().sample(data1['u_symptom'].isnull().sum(),random_state=0)\n",
    "\n",
    "random_sample.index=data1[data1['u_symptom'].isnull()].index\n",
    "data1.loc[data1['u_symptom'].isnull(),'u_symptom']=random_sample"
   ]
  },
  {
   "cell_type": "code",
   "execution_count": 21,
   "id": "cf61a4f3",
   "metadata": {
    "ExecuteTime": {
     "end_time": "2022-03-10T08:43:45.260785Z",
     "start_time": "2022-03-10T08:43:45.085659Z"
    }
   },
   "outputs": [],
   "source": [
    "#Mode Imputaion for 'location','category','subcategory'\n",
    "data1['location'].fillna(data1['location'].mode()[0],inplace=True)\n",
    "data1['category'].fillna(data1['category'].mode()[0],inplace=True)\n",
    "data1['subcategory'].fillna(data1['subcategory'].mode()[0],inplace=True)"
   ]
  },
  {
   "cell_type": "code",
   "execution_count": 22,
   "id": "8dee220d",
   "metadata": {
    "ExecuteTime": {
     "end_time": "2022-03-10T08:43:46.423138Z",
     "start_time": "2022-03-10T08:43:46.267028Z"
    }
   },
   "outputs": [
    {
     "data": {
      "text/plain": [
       "incident_state                0\n",
       "active                        0\n",
       "reassignment_count            0\n",
       "reopen_count                  0\n",
       "sys_mod_count                 0\n",
       "made_sla                      0\n",
       "opened_at                     0\n",
       "contact_type                  0\n",
       "location                      0\n",
       "category                      0\n",
       "subcategory                   0\n",
       "u_symptom                     0\n",
       "impact                        0\n",
       "urgency                       0\n",
       "priority                      0\n",
       "knowledge                     0\n",
       "u_priority_confirmation       0\n",
       "notify                        0\n",
       "resolved_at                3141\n",
       "dtype: int64"
      ]
     },
     "execution_count": 22,
     "metadata": {},
     "output_type": "execute_result"
    }
   ],
   "source": [
    "#checking of null values\n",
    "data1.isnull().sum()"
   ]
  },
  {
   "cell_type": "code",
   "execution_count": 23,
   "id": "e9beea4e",
   "metadata": {
    "ExecuteTime": {
     "end_time": "2022-03-10T08:43:47.981358Z",
     "start_time": "2022-03-10T08:43:47.925318Z"
    }
   },
   "outputs": [
    {
     "data": {
      "text/html": [
       "<div>\n",
       "<style scoped>\n",
       "    .dataframe tbody tr th:only-of-type {\n",
       "        vertical-align: middle;\n",
       "    }\n",
       "\n",
       "    .dataframe tbody tr th {\n",
       "        vertical-align: top;\n",
       "    }\n",
       "\n",
       "    .dataframe thead th {\n",
       "        text-align: right;\n",
       "    }\n",
       "</style>\n",
       "<table border=\"1\" class=\"dataframe\">\n",
       "  <thead>\n",
       "    <tr style=\"text-align: right;\">\n",
       "      <th></th>\n",
       "      <th>incident_state</th>\n",
       "      <th>active</th>\n",
       "      <th>reassignment_count</th>\n",
       "      <th>reopen_count</th>\n",
       "      <th>sys_mod_count</th>\n",
       "      <th>made_sla</th>\n",
       "      <th>opened_at</th>\n",
       "      <th>contact_type</th>\n",
       "      <th>location</th>\n",
       "      <th>category</th>\n",
       "      <th>subcategory</th>\n",
       "      <th>u_symptom</th>\n",
       "      <th>impact</th>\n",
       "      <th>urgency</th>\n",
       "      <th>priority</th>\n",
       "      <th>knowledge</th>\n",
       "      <th>u_priority_confirmation</th>\n",
       "      <th>notify</th>\n",
       "      <th>resolved_at</th>\n",
       "    </tr>\n",
       "  </thead>\n",
       "  <tbody>\n",
       "    <tr>\n",
       "      <th>0</th>\n",
       "      <td>New</td>\n",
       "      <td>True</td>\n",
       "      <td>0</td>\n",
       "      <td>0</td>\n",
       "      <td>0</td>\n",
       "      <td>True</td>\n",
       "      <td>29-02-2016 01:16</td>\n",
       "      <td>Phone</td>\n",
       "      <td>Location 143</td>\n",
       "      <td>Category 55</td>\n",
       "      <td>Subcategory 170</td>\n",
       "      <td>Symptom 72</td>\n",
       "      <td>2 - Medium</td>\n",
       "      <td>2 - Medium</td>\n",
       "      <td>3 - Moderate</td>\n",
       "      <td>True</td>\n",
       "      <td>False</td>\n",
       "      <td>Do Not Notify</td>\n",
       "      <td>29-02-2016 11:29</td>\n",
       "    </tr>\n",
       "    <tr>\n",
       "      <th>1</th>\n",
       "      <td>Resolved</td>\n",
       "      <td>True</td>\n",
       "      <td>0</td>\n",
       "      <td>0</td>\n",
       "      <td>2</td>\n",
       "      <td>True</td>\n",
       "      <td>29-02-2016 01:16</td>\n",
       "      <td>Phone</td>\n",
       "      <td>Location 143</td>\n",
       "      <td>Category 55</td>\n",
       "      <td>Subcategory 170</td>\n",
       "      <td>Symptom 72</td>\n",
       "      <td>2 - Medium</td>\n",
       "      <td>2 - Medium</td>\n",
       "      <td>3 - Moderate</td>\n",
       "      <td>True</td>\n",
       "      <td>False</td>\n",
       "      <td>Do Not Notify</td>\n",
       "      <td>29-02-2016 11:29</td>\n",
       "    </tr>\n",
       "    <tr>\n",
       "      <th>2</th>\n",
       "      <td>Resolved</td>\n",
       "      <td>True</td>\n",
       "      <td>0</td>\n",
       "      <td>0</td>\n",
       "      <td>3</td>\n",
       "      <td>True</td>\n",
       "      <td>29-02-2016 01:16</td>\n",
       "      <td>Phone</td>\n",
       "      <td>Location 143</td>\n",
       "      <td>Category 55</td>\n",
       "      <td>Subcategory 170</td>\n",
       "      <td>Symptom 72</td>\n",
       "      <td>2 - Medium</td>\n",
       "      <td>2 - Medium</td>\n",
       "      <td>3 - Moderate</td>\n",
       "      <td>True</td>\n",
       "      <td>False</td>\n",
       "      <td>Do Not Notify</td>\n",
       "      <td>29-02-2016 11:29</td>\n",
       "    </tr>\n",
       "    <tr>\n",
       "      <th>3</th>\n",
       "      <td>Closed</td>\n",
       "      <td>False</td>\n",
       "      <td>0</td>\n",
       "      <td>0</td>\n",
       "      <td>4</td>\n",
       "      <td>True</td>\n",
       "      <td>29-02-2016 01:16</td>\n",
       "      <td>Phone</td>\n",
       "      <td>Location 143</td>\n",
       "      <td>Category 55</td>\n",
       "      <td>Subcategory 170</td>\n",
       "      <td>Symptom 72</td>\n",
       "      <td>2 - Medium</td>\n",
       "      <td>2 - Medium</td>\n",
       "      <td>3 - Moderate</td>\n",
       "      <td>True</td>\n",
       "      <td>False</td>\n",
       "      <td>Do Not Notify</td>\n",
       "      <td>29-02-2016 11:29</td>\n",
       "    </tr>\n",
       "    <tr>\n",
       "      <th>4</th>\n",
       "      <td>New</td>\n",
       "      <td>True</td>\n",
       "      <td>0</td>\n",
       "      <td>0</td>\n",
       "      <td>0</td>\n",
       "      <td>True</td>\n",
       "      <td>29-02-2016 04:40</td>\n",
       "      <td>Phone</td>\n",
       "      <td>Location 165</td>\n",
       "      <td>Category 40</td>\n",
       "      <td>Subcategory 215</td>\n",
       "      <td>Symptom 471</td>\n",
       "      <td>2 - Medium</td>\n",
       "      <td>2 - Medium</td>\n",
       "      <td>3 - Moderate</td>\n",
       "      <td>True</td>\n",
       "      <td>False</td>\n",
       "      <td>Do Not Notify</td>\n",
       "      <td>01-03-2016 09:52</td>\n",
       "    </tr>\n",
       "    <tr>\n",
       "      <th>...</th>\n",
       "      <td>...</td>\n",
       "      <td>...</td>\n",
       "      <td>...</td>\n",
       "      <td>...</td>\n",
       "      <td>...</td>\n",
       "      <td>...</td>\n",
       "      <td>...</td>\n",
       "      <td>...</td>\n",
       "      <td>...</td>\n",
       "      <td>...</td>\n",
       "      <td>...</td>\n",
       "      <td>...</td>\n",
       "      <td>...</td>\n",
       "      <td>...</td>\n",
       "      <td>...</td>\n",
       "      <td>...</td>\n",
       "      <td>...</td>\n",
       "      <td>...</td>\n",
       "      <td>...</td>\n",
       "    </tr>\n",
       "    <tr>\n",
       "      <th>141707</th>\n",
       "      <td>Closed</td>\n",
       "      <td>False</td>\n",
       "      <td>1</td>\n",
       "      <td>0</td>\n",
       "      <td>4</td>\n",
       "      <td>True</td>\n",
       "      <td>16-02-2017 09:09</td>\n",
       "      <td>Email</td>\n",
       "      <td>Location 204</td>\n",
       "      <td>Category 42</td>\n",
       "      <td>Subcategory 223</td>\n",
       "      <td>Symptom 494</td>\n",
       "      <td>2 - Medium</td>\n",
       "      <td>2 - Medium</td>\n",
       "      <td>3 - Moderate</td>\n",
       "      <td>False</td>\n",
       "      <td>True</td>\n",
       "      <td>Do Not Notify</td>\n",
       "      <td>16-02-2017 09:53</td>\n",
       "    </tr>\n",
       "    <tr>\n",
       "      <th>141708</th>\n",
       "      <td>Active</td>\n",
       "      <td>True</td>\n",
       "      <td>0</td>\n",
       "      <td>0</td>\n",
       "      <td>0</td>\n",
       "      <td>True</td>\n",
       "      <td>16-02-2017 14:17</td>\n",
       "      <td>Email</td>\n",
       "      <td>Location 204</td>\n",
       "      <td>Category 42</td>\n",
       "      <td>Subcategory 223</td>\n",
       "      <td>Symptom 494</td>\n",
       "      <td>2 - Medium</td>\n",
       "      <td>2 - Medium</td>\n",
       "      <td>3 - Moderate</td>\n",
       "      <td>False</td>\n",
       "      <td>False</td>\n",
       "      <td>Do Not Notify</td>\n",
       "      <td>16-02-2017 16:38</td>\n",
       "    </tr>\n",
       "    <tr>\n",
       "      <th>141709</th>\n",
       "      <td>Active</td>\n",
       "      <td>True</td>\n",
       "      <td>1</td>\n",
       "      <td>0</td>\n",
       "      <td>1</td>\n",
       "      <td>True</td>\n",
       "      <td>16-02-2017 14:17</td>\n",
       "      <td>Email</td>\n",
       "      <td>Location 204</td>\n",
       "      <td>Category 42</td>\n",
       "      <td>Subcategory 223</td>\n",
       "      <td>Symptom 494</td>\n",
       "      <td>2 - Medium</td>\n",
       "      <td>2 - Medium</td>\n",
       "      <td>3 - Moderate</td>\n",
       "      <td>False</td>\n",
       "      <td>False</td>\n",
       "      <td>Do Not Notify</td>\n",
       "      <td>16-02-2017 16:38</td>\n",
       "    </tr>\n",
       "    <tr>\n",
       "      <th>141710</th>\n",
       "      <td>Resolved</td>\n",
       "      <td>True</td>\n",
       "      <td>1</td>\n",
       "      <td>0</td>\n",
       "      <td>2</td>\n",
       "      <td>True</td>\n",
       "      <td>16-02-2017 14:17</td>\n",
       "      <td>Email</td>\n",
       "      <td>Location 204</td>\n",
       "      <td>Category 42</td>\n",
       "      <td>Subcategory 223</td>\n",
       "      <td>Symptom 494</td>\n",
       "      <td>2 - Medium</td>\n",
       "      <td>2 - Medium</td>\n",
       "      <td>3 - Moderate</td>\n",
       "      <td>False</td>\n",
       "      <td>True</td>\n",
       "      <td>Do Not Notify</td>\n",
       "      <td>16-02-2017 16:38</td>\n",
       "    </tr>\n",
       "    <tr>\n",
       "      <th>141711</th>\n",
       "      <td>Closed</td>\n",
       "      <td>False</td>\n",
       "      <td>1</td>\n",
       "      <td>0</td>\n",
       "      <td>3</td>\n",
       "      <td>True</td>\n",
       "      <td>16-02-2017 14:17</td>\n",
       "      <td>Email</td>\n",
       "      <td>Location 204</td>\n",
       "      <td>Category 42</td>\n",
       "      <td>Subcategory 223</td>\n",
       "      <td>Symptom 494</td>\n",
       "      <td>2 - Medium</td>\n",
       "      <td>2 - Medium</td>\n",
       "      <td>3 - Moderate</td>\n",
       "      <td>False</td>\n",
       "      <td>True</td>\n",
       "      <td>Do Not Notify</td>\n",
       "      <td>16-02-2017 16:38</td>\n",
       "    </tr>\n",
       "  </tbody>\n",
       "</table>\n",
       "<p>141712 rows × 19 columns</p>\n",
       "</div>"
      ],
      "text/plain": [
       "       incident_state  active  reassignment_count  reopen_count  \\\n",
       "0                 New    True                   0             0   \n",
       "1            Resolved    True                   0             0   \n",
       "2            Resolved    True                   0             0   \n",
       "3              Closed   False                   0             0   \n",
       "4                 New    True                   0             0   \n",
       "...               ...     ...                 ...           ...   \n",
       "141707         Closed   False                   1             0   \n",
       "141708         Active    True                   0             0   \n",
       "141709         Active    True                   1             0   \n",
       "141710       Resolved    True                   1             0   \n",
       "141711         Closed   False                   1             0   \n",
       "\n",
       "        sys_mod_count  made_sla         opened_at contact_type      location  \\\n",
       "0                   0      True  29-02-2016 01:16        Phone  Location 143   \n",
       "1                   2      True  29-02-2016 01:16        Phone  Location 143   \n",
       "2                   3      True  29-02-2016 01:16        Phone  Location 143   \n",
       "3                   4      True  29-02-2016 01:16        Phone  Location 143   \n",
       "4                   0      True  29-02-2016 04:40        Phone  Location 165   \n",
       "...               ...       ...               ...          ...           ...   \n",
       "141707              4      True  16-02-2017 09:09        Email  Location 204   \n",
       "141708              0      True  16-02-2017 14:17        Email  Location 204   \n",
       "141709              1      True  16-02-2017 14:17        Email  Location 204   \n",
       "141710              2      True  16-02-2017 14:17        Email  Location 204   \n",
       "141711              3      True  16-02-2017 14:17        Email  Location 204   \n",
       "\n",
       "           category      subcategory    u_symptom      impact     urgency  \\\n",
       "0       Category 55  Subcategory 170   Symptom 72  2 - Medium  2 - Medium   \n",
       "1       Category 55  Subcategory 170   Symptom 72  2 - Medium  2 - Medium   \n",
       "2       Category 55  Subcategory 170   Symptom 72  2 - Medium  2 - Medium   \n",
       "3       Category 55  Subcategory 170   Symptom 72  2 - Medium  2 - Medium   \n",
       "4       Category 40  Subcategory 215  Symptom 471  2 - Medium  2 - Medium   \n",
       "...             ...              ...          ...         ...         ...   \n",
       "141707  Category 42  Subcategory 223  Symptom 494  2 - Medium  2 - Medium   \n",
       "141708  Category 42  Subcategory 223  Symptom 494  2 - Medium  2 - Medium   \n",
       "141709  Category 42  Subcategory 223  Symptom 494  2 - Medium  2 - Medium   \n",
       "141710  Category 42  Subcategory 223  Symptom 494  2 - Medium  2 - Medium   \n",
       "141711  Category 42  Subcategory 223  Symptom 494  2 - Medium  2 - Medium   \n",
       "\n",
       "            priority  knowledge  u_priority_confirmation         notify  \\\n",
       "0       3 - Moderate       True                    False  Do Not Notify   \n",
       "1       3 - Moderate       True                    False  Do Not Notify   \n",
       "2       3 - Moderate       True                    False  Do Not Notify   \n",
       "3       3 - Moderate       True                    False  Do Not Notify   \n",
       "4       3 - Moderate       True                    False  Do Not Notify   \n",
       "...              ...        ...                      ...            ...   \n",
       "141707  3 - Moderate      False                     True  Do Not Notify   \n",
       "141708  3 - Moderate      False                    False  Do Not Notify   \n",
       "141709  3 - Moderate      False                    False  Do Not Notify   \n",
       "141710  3 - Moderate      False                     True  Do Not Notify   \n",
       "141711  3 - Moderate      False                     True  Do Not Notify   \n",
       "\n",
       "             resolved_at  \n",
       "0       29-02-2016 11:29  \n",
       "1       29-02-2016 11:29  \n",
       "2       29-02-2016 11:29  \n",
       "3       29-02-2016 11:29  \n",
       "4       01-03-2016 09:52  \n",
       "...                  ...  \n",
       "141707  16-02-2017 09:53  \n",
       "141708  16-02-2017 16:38  \n",
       "141709  16-02-2017 16:38  \n",
       "141710  16-02-2017 16:38  \n",
       "141711  16-02-2017 16:38  \n",
       "\n",
       "[141712 rows x 19 columns]"
      ]
     },
     "execution_count": 23,
     "metadata": {},
     "output_type": "execute_result"
    }
   ],
   "source": [
    "data1"
   ]
  },
  {
   "cell_type": "code",
   "execution_count": 24,
   "id": "4c42c366",
   "metadata": {
    "ExecuteTime": {
     "end_time": "2022-03-10T08:43:57.142830Z",
     "start_time": "2022-03-10T08:43:49.025265Z"
    }
   },
   "outputs": [],
   "source": [
    "#changing date-time datatype\n",
    "data1['opened_at']=pd.to_datetime(data1['opened_at'])\n",
    "data1[['resolved_at']]=pd.to_datetime(data1['resolved_at'])"
   ]
  },
  {
   "cell_type": "code",
   "execution_count": 25,
   "id": "a69dfc5f",
   "metadata": {
    "ExecuteTime": {
     "end_time": "2022-03-10T08:44:09.700730Z",
     "start_time": "2022-03-10T08:44:09.144095Z"
    }
   },
   "outputs": [
    {
     "data": {
      "text/html": [
       "<div>\n",
       "<style scoped>\n",
       "    .dataframe tbody tr th:only-of-type {\n",
       "        vertical-align: middle;\n",
       "    }\n",
       "\n",
       "    .dataframe tbody tr th {\n",
       "        vertical-align: top;\n",
       "    }\n",
       "\n",
       "    .dataframe thead th {\n",
       "        text-align: right;\n",
       "    }\n",
       "</style>\n",
       "<table border=\"1\" class=\"dataframe\">\n",
       "  <thead>\n",
       "    <tr style=\"text-align: right;\">\n",
       "      <th></th>\n",
       "      <th>opened_at</th>\n",
       "      <th>resolved_at</th>\n",
       "      <th>resolved_months</th>\n",
       "    </tr>\n",
       "  </thead>\n",
       "  <tbody>\n",
       "    <tr>\n",
       "      <th>5129</th>\n",
       "      <td>2016-02-03 12:21:00</td>\n",
       "      <td>2016-01-06 09:12:00</td>\n",
       "      <td>-0.9242</td>\n",
       "    </tr>\n",
       "    <tr>\n",
       "      <th>71549</th>\n",
       "      <td>2016-08-04 09:38:00</td>\n",
       "      <td>2016-12-04 12:51:00</td>\n",
       "      <td>4.0127</td>\n",
       "    </tr>\n",
       "    <tr>\n",
       "      <th>134080</th>\n",
       "      <td>2016-05-25 08:33:00</td>\n",
       "      <td>2016-05-25 13:46:00</td>\n",
       "      <td>0.0071</td>\n",
       "    </tr>\n",
       "    <tr>\n",
       "      <th>81144</th>\n",
       "      <td>2016-04-14 16:20:00</td>\n",
       "      <td>2016-04-15 11:20:00</td>\n",
       "      <td>0.0260</td>\n",
       "    </tr>\n",
       "    <tr>\n",
       "      <th>109901</th>\n",
       "      <td>2016-05-05 22:27:00</td>\n",
       "      <td>2016-05-17 10:59:00</td>\n",
       "      <td>0.3786</td>\n",
       "    </tr>\n",
       "  </tbody>\n",
       "</table>\n",
       "</div>"
      ],
      "text/plain": [
       "                 opened_at         resolved_at  resolved_months\n",
       "5129   2016-02-03 12:21:00 2016-01-06 09:12:00          -0.9242\n",
       "71549  2016-08-04 09:38:00 2016-12-04 12:51:00           4.0127\n",
       "134080 2016-05-25 08:33:00 2016-05-25 13:46:00           0.0071\n",
       "81144  2016-04-14 16:20:00 2016-04-15 11:20:00           0.0260\n",
       "109901 2016-05-05 22:27:00 2016-05-17 10:59:00           0.3786"
      ]
     },
     "execution_count": 25,
     "metadata": {},
     "output_type": "execute_result"
    }
   ],
   "source": [
    "d=np.round((data1['resolved_at']-data1['opened_at']) / np.timedelta64(1,'M'),4)\n",
    "date=pd.concat([data1['opened_at'],data1['resolved_at'],d],axis=1)\n",
    "date.columns=['opened_at','resolved_at','resolved_months']\n",
    "date.sample(5)"
   ]
  },
  {
   "cell_type": "code",
   "execution_count": 26,
   "id": "822be9a5",
   "metadata": {
    "ExecuteTime": {
     "end_time": "2022-03-10T08:44:10.603287Z",
     "start_time": "2022-03-10T08:44:10.506203Z"
    }
   },
   "outputs": [
    {
     "data": {
      "text/plain": [
       "opened_at          28502\n",
       "resolved_at        28502\n",
       "resolved_months    28502\n",
       "dtype: int64"
      ]
     },
     "execution_count": 26,
     "metadata": {},
     "output_type": "execute_result"
    }
   ],
   "source": [
    "date[date['resolved_months']<=0].count()"
   ]
  },
  {
   "cell_type": "code",
   "execution_count": 27,
   "id": "a0f00297",
   "metadata": {
    "ExecuteTime": {
     "end_time": "2022-03-10T08:51:04.617554Z",
     "start_time": "2022-03-10T08:44:11.441256Z"
    }
   },
   "outputs": [],
   "source": [
    "for i,v in enumerate(date['resolved_months'],0):\n",
    "    while v <=0:\n",
    "            date.loc[i,'resolved_at']=date.loc[i,'resolved_at']+ np.timedelta64(31, 'D')\n",
    "            v = np.round((date.loc[i,'resolved_at']-date.loc[i,'opened_at']) / np.timedelta64(1,'M'),4)"
   ]
  },
  {
   "cell_type": "code",
   "execution_count": 28,
   "id": "afb03126",
   "metadata": {
    "ExecuteTime": {
     "end_time": "2022-03-10T08:52:21.471311Z",
     "start_time": "2022-03-10T08:52:21.447326Z"
    }
   },
   "outputs": [
    {
     "data": {
      "text/html": [
       "<div>\n",
       "<style scoped>\n",
       "    .dataframe tbody tr th:only-of-type {\n",
       "        vertical-align: middle;\n",
       "    }\n",
       "\n",
       "    .dataframe tbody tr th {\n",
       "        vertical-align: top;\n",
       "    }\n",
       "\n",
       "    .dataframe thead th {\n",
       "        text-align: right;\n",
       "    }\n",
       "</style>\n",
       "<table border=\"1\" class=\"dataframe\">\n",
       "  <thead>\n",
       "    <tr style=\"text-align: right;\">\n",
       "      <th></th>\n",
       "      <th>opened_at</th>\n",
       "      <th>resolved_at</th>\n",
       "    </tr>\n",
       "  </thead>\n",
       "  <tbody>\n",
       "    <tr>\n",
       "      <th>59223</th>\n",
       "      <td>2016-03-31 17:49:00</td>\n",
       "      <td>2016-05-04 16:42:00</td>\n",
       "    </tr>\n",
       "    <tr>\n",
       "      <th>2559</th>\n",
       "      <td>2016-01-03 14:00:00</td>\n",
       "      <td>2016-09-03 14:41:00</td>\n",
       "    </tr>\n",
       "    <tr>\n",
       "      <th>34510</th>\n",
       "      <td>2016-03-16 10:57:00</td>\n",
       "      <td>2016-03-17 10:50:00</td>\n",
       "    </tr>\n",
       "    <tr>\n",
       "      <th>38575</th>\n",
       "      <td>2016-03-18 09:21:00</td>\n",
       "      <td>2016-03-24 15:38:00</td>\n",
       "    </tr>\n",
       "    <tr>\n",
       "      <th>130508</th>\n",
       "      <td>2016-05-23 08:18:00</td>\n",
       "      <td>2016-05-23 09:19:00</td>\n",
       "    </tr>\n",
       "  </tbody>\n",
       "</table>\n",
       "</div>"
      ],
      "text/plain": [
       "                 opened_at         resolved_at\n",
       "59223  2016-03-31 17:49:00 2016-05-04 16:42:00\n",
       "2559   2016-01-03 14:00:00 2016-09-03 14:41:00\n",
       "34510  2016-03-16 10:57:00 2016-03-17 10:50:00\n",
       "38575  2016-03-18 09:21:00 2016-03-24 15:38:00\n",
       "130508 2016-05-23 08:18:00 2016-05-23 09:19:00"
      ]
     },
     "execution_count": 28,
     "metadata": {},
     "output_type": "execute_result"
    }
   ],
   "source": [
    "data1[['opened_at','resolved_at']].sample(5)"
   ]
  },
  {
   "cell_type": "code",
   "execution_count": 29,
   "id": "d787ebac",
   "metadata": {
    "ExecuteTime": {
     "end_time": "2022-03-10T08:52:22.431329Z",
     "start_time": "2022-03-10T08:52:22.351320Z"
    }
   },
   "outputs": [
    {
     "data": {
      "text/html": [
       "<div>\n",
       "<style scoped>\n",
       "    .dataframe tbody tr th:only-of-type {\n",
       "        vertical-align: middle;\n",
       "    }\n",
       "\n",
       "    .dataframe tbody tr th {\n",
       "        vertical-align: top;\n",
       "    }\n",
       "\n",
       "    .dataframe thead th {\n",
       "        text-align: right;\n",
       "    }\n",
       "</style>\n",
       "<table border=\"1\" class=\"dataframe\">\n",
       "  <thead>\n",
       "    <tr style=\"text-align: right;\">\n",
       "      <th></th>\n",
       "      <th>opened_at</th>\n",
       "      <th>resolved_at</th>\n",
       "      <th>resolved_months</th>\n",
       "      <th>resolved_Months</th>\n",
       "    </tr>\n",
       "  </thead>\n",
       "  <tbody>\n",
       "    <tr>\n",
       "      <th>1655</th>\n",
       "      <td>2016-01-03 09:15:00</td>\n",
       "      <td>2016-03-03 11:56:00</td>\n",
       "      <td>1.9750</td>\n",
       "      <td>1.9750</td>\n",
       "    </tr>\n",
       "    <tr>\n",
       "      <th>59386</th>\n",
       "      <td>2016-01-04 01:11:00</td>\n",
       "      <td>NaT</td>\n",
       "      <td>NaN</td>\n",
       "      <td>NaN</td>\n",
       "    </tr>\n",
       "    <tr>\n",
       "      <th>108304</th>\n",
       "      <td>2016-05-05 09:58:00</td>\n",
       "      <td>2016-05-05 10:03:00</td>\n",
       "      <td>0.0001</td>\n",
       "      <td>0.0001</td>\n",
       "    </tr>\n",
       "    <tr>\n",
       "      <th>63949</th>\n",
       "      <td>2016-04-04 13:29:00</td>\n",
       "      <td>2016-04-04 15:06:00</td>\n",
       "      <td>0.0022</td>\n",
       "      <td>0.0022</td>\n",
       "    </tr>\n",
       "    <tr>\n",
       "      <th>126957</th>\n",
       "      <td>2016-05-18 22:59:00</td>\n",
       "      <td>2016-07-06 11:35:00</td>\n",
       "      <td>1.5943</td>\n",
       "      <td>1.5943</td>\n",
       "    </tr>\n",
       "  </tbody>\n",
       "</table>\n",
       "</div>"
      ],
      "text/plain": [
       "                 opened_at         resolved_at  resolved_months  \\\n",
       "1655   2016-01-03 09:15:00 2016-03-03 11:56:00           1.9750   \n",
       "59386  2016-01-04 01:11:00                 NaT              NaN   \n",
       "108304 2016-05-05 09:58:00 2016-05-05 10:03:00           0.0001   \n",
       "63949  2016-04-04 13:29:00 2016-04-04 15:06:00           0.0022   \n",
       "126957 2016-05-18 22:59:00 2016-07-06 11:35:00           1.5943   \n",
       "\n",
       "        resolved_Months  \n",
       "1655             1.9750  \n",
       "59386               NaN  \n",
       "108304           0.0001  \n",
       "63949            0.0022  \n",
       "126957           1.5943  "
      ]
     },
     "execution_count": 29,
     "metadata": {},
     "output_type": "execute_result"
    }
   ],
   "source": [
    "date['resolved_Months']=np.round((date['resolved_at']-date['opened_at']) / np.timedelta64(1,'M'),4)\n",
    "date.sample(5)"
   ]
  },
  {
   "cell_type": "code",
   "execution_count": 30,
   "id": "cf99dac4",
   "metadata": {
    "ExecuteTime": {
     "end_time": "2022-03-10T08:52:23.251299Z",
     "start_time": "2022-03-10T08:52:23.148705Z"
    }
   },
   "outputs": [],
   "source": [
    "date['resolved_Months'].fillna(method='ffill',inplace=True)"
   ]
  },
  {
   "cell_type": "code",
   "execution_count": 31,
   "id": "2ea6ad9e",
   "metadata": {
    "ExecuteTime": {
     "end_time": "2022-03-10T08:52:23.941438Z",
     "start_time": "2022-03-10T08:52:23.930448Z"
    }
   },
   "outputs": [
    {
     "data": {
      "text/plain": [
       "0"
      ]
     },
     "execution_count": 31,
     "metadata": {},
     "output_type": "execute_result"
    }
   ],
   "source": [
    "#checking of null values\n",
    "date['resolved_Months'].isnull().sum()"
   ]
  },
  {
   "cell_type": "code",
   "execution_count": 32,
   "id": "e12e9188",
   "metadata": {
    "ExecuteTime": {
     "end_time": "2022-03-10T08:52:24.768461Z",
     "start_time": "2022-03-10T08:52:24.721427Z"
    }
   },
   "outputs": [],
   "source": [
    "#droping of unwanted features\n",
    "data1.drop(columns=['opened_at','resolved_at'],inplace=True)"
   ]
  },
  {
   "cell_type": "code",
   "execution_count": 33,
   "id": "0e806ffd",
   "metadata": {
    "ExecuteTime": {
     "end_time": "2022-03-10T08:52:25.408028Z",
     "start_time": "2022-03-10T08:52:25.401024Z"
    }
   },
   "outputs": [],
   "source": [
    "#appending of wanted feature\n",
    "data1.insert(5,'resolved_in_months',date['resolved_Months'])"
   ]
  },
  {
   "cell_type": "code",
   "execution_count": 34,
   "id": "26f4cc10",
   "metadata": {
    "ExecuteTime": {
     "end_time": "2022-03-10T08:52:26.176121Z",
     "start_time": "2022-03-10T08:52:26.065039Z"
    }
   },
   "outputs": [
    {
     "data": {
      "text/plain": [
       "0"
      ]
     },
     "execution_count": 34,
     "metadata": {},
     "output_type": "execute_result"
    }
   ],
   "source": [
    "#checking of null values\n",
    "data1.isnull().sum().sum()"
   ]
  },
  {
   "cell_type": "code",
   "execution_count": 35,
   "id": "49f1da33",
   "metadata": {
    "ExecuteTime": {
     "end_time": "2022-03-10T08:52:31.132116Z",
     "start_time": "2022-03-10T08:52:26.810350Z"
    }
   },
   "outputs": [
    {
     "data": {
      "text/plain": [
       "<AxesSubplot:>"
      ]
     },
     "execution_count": 35,
     "metadata": {},
     "output_type": "execute_result"
    },
    {
     "data": {
      "image/png": "[encoded data removed]",
      "text/plain": [
       "<Figure size 432x288 with 1 Axes>"
      ]
     },
     "metadata": {
      "needs_background": "light"
     },
     "output_type": "display_data"
    }
   ],
   "source": [
    "#Vizuvalizing of null values\n",
    "\n",
    "sns.heatmap(data1.isnull(),yticklabels=False,cbar=False,cmap='viridis')"
   ]
  },
  {
   "cell_type": "markdown",
   "id": "3fd03091",
   "metadata": {},
   "source": [
    "# Feature Engineering"
   ]
  },
  {
   "cell_type": "code",
   "execution_count": 36,
   "id": "e3ebcc68",
   "metadata": {
    "ExecuteTime": {
     "end_time": "2022-03-10T08:52:36.125252Z",
     "start_time": "2022-03-10T08:52:35.986320Z"
    }
   },
   "outputs": [],
   "source": [
    "data1['knowledge'] = np.where(data1['knowledge']==True,1,0)\n",
    "data1['notify'] = np.where(data1['notify']=='Send Email',1,0)\n",
    "data1['active'] = np.where(data1['active']==True,1,0)\n",
    "data1['made_sla'] = np.where(data1['made_sla']==True,1,0)\n",
    "data1['u_priority_confirmation'] = np.where(data1['u_priority_confirmation']==True,1,0)"
   ]
  },
  {
   "cell_type": "code",
   "execution_count": 37,
   "id": "3bcb7f88",
   "metadata": {
    "ExecuteTime": {
     "end_time": "2022-03-10T08:52:37.844422Z",
     "start_time": "2022-03-10T08:52:36.803260Z"
    }
   },
   "outputs": [
    {
     "name": "stdout",
     "output_type": "stream",
     "text": [
      "incident_state                9\n",
      "active                        2\n",
      "reassignment_count           28\n",
      "reopen_count                  9\n",
      "sys_mod_count               115\n",
      "resolved_in_months         7866\n",
      "made_sla                      2\n",
      "contact_type                  5\n",
      "location                    224\n",
      "category                     58\n",
      "subcategory                 254\n",
      "u_symptom                   525\n",
      "impact                        3\n",
      "urgency                       3\n",
      "priority                      4\n",
      "knowledge                     2\n",
      "u_priority_confirmation       2\n",
      "notify                        2\n",
      "dtype: int64\n"
     ]
    }
   ],
   "source": [
    "#unique values\n",
    "print(data1.nunique())"
   ]
  },
  {
   "cell_type": "code",
   "execution_count": 38,
   "id": "b1eaea7b",
   "metadata": {
    "ExecuteTime": {
     "end_time": "2022-03-10T08:52:38.641466Z",
     "start_time": "2022-03-10T08:52:38.561393Z"
    }
   },
   "outputs": [],
   "source": [
    "dic={'2 - Medium':0,'3 - Low':1,'1 - High':2 }\n",
    "data1['impact']=data1['impact'].map(dic)"
   ]
  },
  {
   "cell_type": "code",
   "execution_count": 39,
   "id": "dca952de",
   "metadata": {
    "ExecuteTime": {
     "end_time": "2022-03-10T08:52:41.087370Z",
     "start_time": "2022-03-10T08:52:40.919347Z"
    }
   },
   "outputs": [],
   "source": [
    "dic={'Not Available':0,'Active':1,'Awaiting Problem':2,'Awaiting Vendor':3,'Awaiting User info':4,'Awaiting Evidence':5,\n",
    "     'Closed':6,'New':7,'Resolved':8}\n",
    "data1['incident_state']=data1['incident_state'].map(dic)"
   ]
  },
  {
   "cell_type": "code",
   "execution_count": 40,
   "id": "0fe167c4",
   "metadata": {
    "ExecuteTime": {
     "end_time": "2022-03-10T08:52:42.423101Z",
     "start_time": "2022-03-10T08:52:42.327091Z"
    }
   },
   "outputs": [],
   "source": [
    "dic={'Direct opening':0,'IVR':1,'Email':2,'Self service':3,'Phone':4}\n",
    "data1['contact_type']=data1['contact_type'].map(dic)"
   ]
  },
  {
   "cell_type": "code",
   "execution_count": 41,
   "id": "daa624db",
   "metadata": {
    "ExecuteTime": {
     "end_time": "2022-03-10T08:52:43.167245Z",
     "start_time": "2022-03-10T08:52:43.127224Z"
    }
   },
   "outputs": [
    {
     "data": {
      "text/html": [
       "<div>\n",
       "<style scoped>\n",
       "    .dataframe tbody tr th:only-of-type {\n",
       "        vertical-align: middle;\n",
       "    }\n",
       "\n",
       "    .dataframe tbody tr th {\n",
       "        vertical-align: top;\n",
       "    }\n",
       "\n",
       "    .dataframe thead th {\n",
       "        text-align: right;\n",
       "    }\n",
       "</style>\n",
       "<table border=\"1\" class=\"dataframe\">\n",
       "  <thead>\n",
       "    <tr style=\"text-align: right;\">\n",
       "      <th></th>\n",
       "      <th>incident_state</th>\n",
       "      <th>active</th>\n",
       "      <th>reassignment_count</th>\n",
       "      <th>reopen_count</th>\n",
       "      <th>sys_mod_count</th>\n",
       "      <th>resolved_in_months</th>\n",
       "      <th>made_sla</th>\n",
       "      <th>contact_type</th>\n",
       "      <th>location</th>\n",
       "      <th>category</th>\n",
       "      <th>subcategory</th>\n",
       "      <th>u_symptom</th>\n",
       "      <th>impact</th>\n",
       "      <th>urgency</th>\n",
       "      <th>priority</th>\n",
       "      <th>knowledge</th>\n",
       "      <th>u_priority_confirmation</th>\n",
       "      <th>notify</th>\n",
       "    </tr>\n",
       "  </thead>\n",
       "  <tbody>\n",
       "    <tr>\n",
       "      <th>116935</th>\n",
       "      <td>8.0</td>\n",
       "      <td>1</td>\n",
       "      <td>0</td>\n",
       "      <td>0</td>\n",
       "      <td>2</td>\n",
       "      <td>0.0016</td>\n",
       "      <td>1</td>\n",
       "      <td>4</td>\n",
       "      <td>Location 204</td>\n",
       "      <td>Category 53</td>\n",
       "      <td>Subcategory 174</td>\n",
       "      <td>Symptom 491</td>\n",
       "      <td>0</td>\n",
       "      <td>2 - Medium</td>\n",
       "      <td>3 - Moderate</td>\n",
       "      <td>0</td>\n",
       "      <td>1</td>\n",
       "      <td>0</td>\n",
       "    </tr>\n",
       "    <tr>\n",
       "      <th>118811</th>\n",
       "      <td>6.0</td>\n",
       "      <td>0</td>\n",
       "      <td>1</td>\n",
       "      <td>0</td>\n",
       "      <td>3</td>\n",
       "      <td>0.0001</td>\n",
       "      <td>1</td>\n",
       "      <td>4</td>\n",
       "      <td>Location 179</td>\n",
       "      <td>Category 57</td>\n",
       "      <td>Subcategory 170</td>\n",
       "      <td>Symptom 595</td>\n",
       "      <td>0</td>\n",
       "      <td>2 - Medium</td>\n",
       "      <td>3 - Moderate</td>\n",
       "      <td>0</td>\n",
       "      <td>1</td>\n",
       "      <td>0</td>\n",
       "    </tr>\n",
       "    <tr>\n",
       "      <th>16770</th>\n",
       "      <td>NaN</td>\n",
       "      <td>1</td>\n",
       "      <td>1</td>\n",
       "      <td>0</td>\n",
       "      <td>3</td>\n",
       "      <td>0.6901</td>\n",
       "      <td>1</td>\n",
       "      <td>4</td>\n",
       "      <td>Location 38</td>\n",
       "      <td>Category 37</td>\n",
       "      <td>Subcategory 123</td>\n",
       "      <td>Symptom 607</td>\n",
       "      <td>0</td>\n",
       "      <td>2 - Medium</td>\n",
       "      <td>3 - Moderate</td>\n",
       "      <td>1</td>\n",
       "      <td>0</td>\n",
       "      <td>0</td>\n",
       "    </tr>\n",
       "    <tr>\n",
       "      <th>107597</th>\n",
       "      <td>8.0</td>\n",
       "      <td>1</td>\n",
       "      <td>0</td>\n",
       "      <td>0</td>\n",
       "      <td>1</td>\n",
       "      <td>0.0001</td>\n",
       "      <td>1</td>\n",
       "      <td>4</td>\n",
       "      <td>Location 161</td>\n",
       "      <td>Category 53</td>\n",
       "      <td>Subcategory 174</td>\n",
       "      <td>Symptom 491</td>\n",
       "      <td>0</td>\n",
       "      <td>2 - Medium</td>\n",
       "      <td>3 - Moderate</td>\n",
       "      <td>0</td>\n",
       "      <td>1</td>\n",
       "      <td>0</td>\n",
       "    </tr>\n",
       "    <tr>\n",
       "      <th>52646</th>\n",
       "      <td>1.0</td>\n",
       "      <td>1</td>\n",
       "      <td>0</td>\n",
       "      <td>0</td>\n",
       "      <td>2</td>\n",
       "      <td>0.0278</td>\n",
       "      <td>1</td>\n",
       "      <td>4</td>\n",
       "      <td>Location 161</td>\n",
       "      <td>Category 9</td>\n",
       "      <td>Subcategory 164</td>\n",
       "      <td>Symptom 495</td>\n",
       "      <td>0</td>\n",
       "      <td>2 - Medium</td>\n",
       "      <td>3 - Moderate</td>\n",
       "      <td>0</td>\n",
       "      <td>0</td>\n",
       "      <td>0</td>\n",
       "    </tr>\n",
       "  </tbody>\n",
       "</table>\n",
       "</div>"
      ],
      "text/plain": [
       "        incident_state  active  reassignment_count  reopen_count  \\\n",
       "116935             8.0       1                   0             0   \n",
       "118811             6.0       0                   1             0   \n",
       "16770              NaN       1                   1             0   \n",
       "107597             8.0       1                   0             0   \n",
       "52646              1.0       1                   0             0   \n",
       "\n",
       "        sys_mod_count  resolved_in_months  made_sla  contact_type  \\\n",
       "116935              2              0.0016         1             4   \n",
       "118811              3              0.0001         1             4   \n",
       "16770               3              0.6901         1             4   \n",
       "107597              1              0.0001         1             4   \n",
       "52646               2              0.0278         1             4   \n",
       "\n",
       "            location     category      subcategory    u_symptom  impact  \\\n",
       "116935  Location 204  Category 53  Subcategory 174  Symptom 491       0   \n",
       "118811  Location 179  Category 57  Subcategory 170  Symptom 595       0   \n",
       "16770    Location 38  Category 37  Subcategory 123  Symptom 607       0   \n",
       "107597  Location 161  Category 53  Subcategory 174  Symptom 491       0   \n",
       "52646   Location 161   Category 9  Subcategory 164  Symptom 495       0   \n",
       "\n",
       "           urgency      priority  knowledge  u_priority_confirmation  notify  \n",
       "116935  2 - Medium  3 - Moderate          0                        1       0  \n",
       "118811  2 - Medium  3 - Moderate          0                        1       0  \n",
       "16770   2 - Medium  3 - Moderate          1                        0       0  \n",
       "107597  2 - Medium  3 - Moderate          0                        1       0  \n",
       "52646   2 - Medium  3 - Moderate          0                        0       0  "
      ]
     },
     "execution_count": 41,
     "metadata": {},
     "output_type": "execute_result"
    }
   ],
   "source": [
    "data1.sample(5)"
   ]
  },
  {
   "cell_type": "code",
   "execution_count": 42,
   "id": "3720534b",
   "metadata": {
    "ExecuteTime": {
     "end_time": "2022-03-10T08:53:09.993348Z",
     "start_time": "2022-03-10T08:52:43.967138Z"
    }
   },
   "outputs": [
    {
     "data": {
      "text/html": [
       "<div>\n",
       "<style scoped>\n",
       "    .dataframe tbody tr th:only-of-type {\n",
       "        vertical-align: middle;\n",
       "    }\n",
       "\n",
       "    .dataframe tbody tr th {\n",
       "        vertical-align: top;\n",
       "    }\n",
       "\n",
       "    .dataframe thead th {\n",
       "        text-align: right;\n",
       "    }\n",
       "</style>\n",
       "<table border=\"1\" class=\"dataframe\">\n",
       "  <thead>\n",
       "    <tr style=\"text-align: right;\">\n",
       "      <th></th>\n",
       "      <th>incident_state</th>\n",
       "      <th>active</th>\n",
       "      <th>reassignment_count</th>\n",
       "      <th>reopen_count</th>\n",
       "      <th>sys_mod_count</th>\n",
       "      <th>resolved_in_months</th>\n",
       "      <th>made_sla</th>\n",
       "      <th>contact_type</th>\n",
       "      <th>location</th>\n",
       "      <th>category</th>\n",
       "      <th>subcategory</th>\n",
       "      <th>u_symptom</th>\n",
       "      <th>impact</th>\n",
       "      <th>urgency</th>\n",
       "      <th>priority</th>\n",
       "      <th>knowledge</th>\n",
       "      <th>u_priority_confirmation</th>\n",
       "      <th>notify</th>\n",
       "    </tr>\n",
       "  </thead>\n",
       "  <tbody>\n",
       "    <tr>\n",
       "      <th>92914</th>\n",
       "      <td>6</td>\n",
       "      <td>1</td>\n",
       "      <td>0</td>\n",
       "      <td>0</td>\n",
       "      <td>0</td>\n",
       "      <td>0.0005</td>\n",
       "      <td>1</td>\n",
       "      <td>4</td>\n",
       "      <td>59</td>\n",
       "      <td>9</td>\n",
       "      <td>73</td>\n",
       "      <td>365</td>\n",
       "      <td>0</td>\n",
       "      <td>1</td>\n",
       "      <td>2</td>\n",
       "      <td>0</td>\n",
       "      <td>0</td>\n",
       "      <td>0</td>\n",
       "    </tr>\n",
       "    <tr>\n",
       "      <th>137767</th>\n",
       "      <td>4</td>\n",
       "      <td>0</td>\n",
       "      <td>1</td>\n",
       "      <td>0</td>\n",
       "      <td>5</td>\n",
       "      <td>0.0001</td>\n",
       "      <td>1</td>\n",
       "      <td>4</td>\n",
       "      <td>197</td>\n",
       "      <td>25</td>\n",
       "      <td>171</td>\n",
       "      <td>382</td>\n",
       "      <td>0</td>\n",
       "      <td>1</td>\n",
       "      <td>2</td>\n",
       "      <td>0</td>\n",
       "      <td>1</td>\n",
       "      <td>0</td>\n",
       "    </tr>\n",
       "    <tr>\n",
       "      <th>48616</th>\n",
       "      <td>5</td>\n",
       "      <td>1</td>\n",
       "      <td>2</td>\n",
       "      <td>0</td>\n",
       "      <td>2</td>\n",
       "      <td>0.0056</td>\n",
       "      <td>1</td>\n",
       "      <td>4</td>\n",
       "      <td>104</td>\n",
       "      <td>44</td>\n",
       "      <td>73</td>\n",
       "      <td>365</td>\n",
       "      <td>0</td>\n",
       "      <td>1</td>\n",
       "      <td>2</td>\n",
       "      <td>0</td>\n",
       "      <td>0</td>\n",
       "      <td>0</td>\n",
       "    </tr>\n",
       "    <tr>\n",
       "      <th>114984</th>\n",
       "      <td>4</td>\n",
       "      <td>0</td>\n",
       "      <td>3</td>\n",
       "      <td>0</td>\n",
       "      <td>13</td>\n",
       "      <td>2.0082</td>\n",
       "      <td>1</td>\n",
       "      <td>4</td>\n",
       "      <td>179</td>\n",
       "      <td>36</td>\n",
       "      <td>157</td>\n",
       "      <td>109</td>\n",
       "      <td>0</td>\n",
       "      <td>1</td>\n",
       "      <td>2</td>\n",
       "      <td>0</td>\n",
       "      <td>1</td>\n",
       "      <td>0</td>\n",
       "    </tr>\n",
       "    <tr>\n",
       "      <th>140951</th>\n",
       "      <td>6</td>\n",
       "      <td>1</td>\n",
       "      <td>0</td>\n",
       "      <td>0</td>\n",
       "      <td>12</td>\n",
       "      <td>4.0437</td>\n",
       "      <td>1</td>\n",
       "      <td>3</td>\n",
       "      <td>43</td>\n",
       "      <td>35</td>\n",
       "      <td>151</td>\n",
       "      <td>368</td>\n",
       "      <td>0</td>\n",
       "      <td>1</td>\n",
       "      <td>2</td>\n",
       "      <td>0</td>\n",
       "      <td>1</td>\n",
       "      <td>0</td>\n",
       "    </tr>\n",
       "  </tbody>\n",
       "</table>\n",
       "</div>"
      ],
      "text/plain": [
       "        incident_state  active  reassignment_count  reopen_count  \\\n",
       "92914                6       1                   0             0   \n",
       "137767               4       0                   1             0   \n",
       "48616                5       1                   2             0   \n",
       "114984               4       0                   3             0   \n",
       "140951               6       1                   0             0   \n",
       "\n",
       "        sys_mod_count  resolved_in_months  made_sla  contact_type  location  \\\n",
       "92914               0              0.0005         1             4        59   \n",
       "137767              5              0.0001         1             4       197   \n",
       "48616               2              0.0056         1             4       104   \n",
       "114984             13              2.0082         1             4       179   \n",
       "140951             12              4.0437         1             3        43   \n",
       "\n",
       "        category  subcategory  u_symptom  impact  urgency  priority  \\\n",
       "92914          9           73        365       0        1         2   \n",
       "137767        25          171        382       0        1         2   \n",
       "48616         44           73        365       0        1         2   \n",
       "114984        36          157        109       0        1         2   \n",
       "140951        35          151        368       0        1         2   \n",
       "\n",
       "        knowledge  u_priority_confirmation  notify  \n",
       "92914           0                        0       0  \n",
       "137767          0                        1       0  \n",
       "48616           0                        0       0  \n",
       "114984          0                        1       0  \n",
       "140951          0                        1       0  "
      ]
     },
     "execution_count": 42,
     "metadata": {},
     "output_type": "execute_result"
    }
   ],
   "source": [
    "# Label encoding\n",
    "from sklearn import preprocessing\n",
    "label = preprocessing.LabelEncoder()\n",
    "data1['location'] = label.fit_transform(data1['location'])\n",
    "data1['category'] = label.fit_transform(data1['category'])\n",
    "data1['subcategory'] = label.fit_transform(data1['subcategory'])\n",
    "data1['u_symptom'] = label.fit_transform(data1['u_symptom'])\n",
    "data1['urgency'] = label.fit_transform(data1['urgency'])\n",
    "data1['priority'] = label.fit_transform(data1['priority'])\n",
    "data1['contact_type'] = label.fit_transform(data1['contact_type'])\n",
    "data1['incident_state']=label.fit_transform(data1['incident_state'])\n",
    "data1.sample(5)"
   ]
  },
  {
   "cell_type": "code",
   "execution_count": 43,
   "id": "8a8dffff",
   "metadata": {
    "ExecuteTime": {
     "end_time": "2022-03-10T08:53:25.509162Z",
     "start_time": "2022-03-10T08:53:25.500155Z"
    }
   },
   "outputs": [
    {
     "data": {
      "text/plain": [
       "Index(['incident_state', 'active', 'reassignment_count', 'reopen_count',\n",
       "       'sys_mod_count', 'resolved_in_months', 'made_sla', 'contact_type',\n",
       "       'location', 'category', 'subcategory', 'u_symptom', 'impact', 'urgency',\n",
       "       'priority', 'knowledge', 'u_priority_confirmation', 'notify'],\n",
       "      dtype='object')"
      ]
     },
     "execution_count": 43,
     "metadata": {},
     "output_type": "execute_result"
    }
   ],
   "source": [
    "data1.columns"
   ]
  },
  {
   "cell_type": "code",
   "execution_count": 44,
   "id": "c587da5b",
   "metadata": {
    "ExecuteTime": {
     "end_time": "2022-03-10T08:53:26.122557Z",
     "start_time": "2022-03-10T08:53:26.049487Z"
    }
   },
   "outputs": [],
   "source": [
    "#standardization\n",
    "from sklearn.preprocessing import MinMaxScaler\n",
    "scaler=MinMaxScaler()\n",
    "scl=scaler.fit_transform(data1[['location','category','subcategory','u_symptom']])"
   ]
  },
  {
   "cell_type": "code",
   "execution_count": 45,
   "id": "18b82f70",
   "metadata": {
    "ExecuteTime": {
     "end_time": "2022-03-10T08:53:26.696432Z",
     "start_time": "2022-03-10T08:53:26.681419Z"
    }
   },
   "outputs": [
    {
     "data": {
      "text/html": [
       "<div>\n",
       "<style scoped>\n",
       "    .dataframe tbody tr th:only-of-type {\n",
       "        vertical-align: middle;\n",
       "    }\n",
       "\n",
       "    .dataframe tbody tr th {\n",
       "        vertical-align: top;\n",
       "    }\n",
       "\n",
       "    .dataframe thead th {\n",
       "        text-align: right;\n",
       "    }\n",
       "</style>\n",
       "<table border=\"1\" class=\"dataframe\">\n",
       "  <thead>\n",
       "    <tr style=\"text-align: right;\">\n",
       "      <th></th>\n",
       "      <th>location</th>\n",
       "      <th>category</th>\n",
       "      <th>subcategory</th>\n",
       "      <th>u_symptom</th>\n",
       "    </tr>\n",
       "  </thead>\n",
       "  <tbody>\n",
       "    <tr>\n",
       "      <th>98884</th>\n",
       "      <td>0.542601</td>\n",
       "      <td>0.298246</td>\n",
       "      <td>0.288538</td>\n",
       "      <td>0.696565</td>\n",
       "    </tr>\n",
       "    <tr>\n",
       "      <th>100021</th>\n",
       "      <td>0.031390</td>\n",
       "      <td>0.122807</td>\n",
       "      <td>0.241107</td>\n",
       "      <td>0.637405</td>\n",
       "    </tr>\n",
       "    <tr>\n",
       "      <th>84797</th>\n",
       "      <td>0.874439</td>\n",
       "      <td>0.228070</td>\n",
       "      <td>0.288538</td>\n",
       "      <td>0.696565</td>\n",
       "    </tr>\n",
       "    <tr>\n",
       "      <th>24778</th>\n",
       "      <td>0.264574</td>\n",
       "      <td>0.263158</td>\n",
       "      <td>0.288538</td>\n",
       "      <td>0.696565</td>\n",
       "    </tr>\n",
       "    <tr>\n",
       "      <th>38460</th>\n",
       "      <td>0.264574</td>\n",
       "      <td>0.263158</td>\n",
       "      <td>0.660079</td>\n",
       "      <td>0.696565</td>\n",
       "    </tr>\n",
       "  </tbody>\n",
       "</table>\n",
       "</div>"
      ],
      "text/plain": [
       "        location  category  subcategory  u_symptom\n",
       "98884   0.542601  0.298246     0.288538   0.696565\n",
       "100021  0.031390  0.122807     0.241107   0.637405\n",
       "84797   0.874439  0.228070     0.288538   0.696565\n",
       "24778   0.264574  0.263158     0.288538   0.696565\n",
       "38460   0.264574  0.263158     0.660079   0.696565"
      ]
     },
     "execution_count": 45,
     "metadata": {},
     "output_type": "execute_result"
    }
   ],
   "source": [
    "scaled=pd.DataFrame(scl,columns=['location','category','subcategory','u_symptom'])\n",
    "scaled.sample(5)"
   ]
  },
  {
   "cell_type": "code",
   "execution_count": 46,
   "id": "a03ff58d",
   "metadata": {
    "ExecuteTime": {
     "end_time": "2022-03-10T08:53:27.457369Z",
     "start_time": "2022-03-10T08:53:27.412337Z"
    }
   },
   "outputs": [],
   "source": [
    "x=pd.concat([data1[['incident_state', 'active', 'reassignment_count', 'reopen_count',\n",
    "       'sys_mod_count', 'resolved_in_months', 'made_sla', 'contact_type', 'urgency',\n",
    "       'priority', 'knowledge', 'u_priority_confirmation', 'notify']],scaled],axis=1)"
   ]
  },
  {
   "cell_type": "code",
   "execution_count": 47,
   "id": "f18dcc24",
   "metadata": {
    "ExecuteTime": {
     "end_time": "2022-03-10T08:53:28.138274Z",
     "start_time": "2022-03-10T08:53:28.089239Z"
    }
   },
   "outputs": [],
   "source": [
    "x = x.drop(columns=['location', 'category', 'subcategory', 'u_symptom'])\n",
    "y = data1.impact"
   ]
  },
  {
   "cell_type": "code",
   "execution_count": 48,
   "id": "ec5cdad3",
   "metadata": {
    "ExecuteTime": {
     "end_time": "2022-03-10T08:53:32.574693Z",
     "start_time": "2022-03-10T08:53:31.659173Z"
    }
   },
   "outputs": [],
   "source": [
    "from sklearn.model_selection import train_test_split"
   ]
  },
  {
   "cell_type": "code",
   "execution_count": 49,
   "id": "26c46a30",
   "metadata": {
    "ExecuteTime": {
     "end_time": "2022-03-10T08:53:32.960082Z",
     "start_time": "2022-03-10T08:53:32.797801Z"
    }
   },
   "outputs": [],
   "source": [
    "#splitting of train and test data\n",
    "x_train,x_test,y_train,y_test = train_test_split(x,y, test_size=0.3,random_state=10)"
   ]
  },
  {
   "cell_type": "code",
   "execution_count": 50,
   "id": "ea5d5702",
   "metadata": {
    "ExecuteTime": {
     "end_time": "2022-03-10T08:53:33.685236Z",
     "start_time": "2022-03-10T08:53:33.677090Z"
    }
   },
   "outputs": [
    {
     "data": {
      "text/plain": [
       "(99198, 13)"
      ]
     },
     "execution_count": 50,
     "metadata": {},
     "output_type": "execute_result"
    }
   ],
   "source": [
    "x_train.shape"
   ]
  },
  {
   "cell_type": "code",
   "execution_count": 51,
   "id": "ce75762f",
   "metadata": {
    "ExecuteTime": {
     "end_time": "2022-03-10T08:53:35.367287Z",
     "start_time": "2022-03-10T08:53:35.351306Z"
    }
   },
   "outputs": [
    {
     "data": {
      "text/plain": [
       "(99198,)"
      ]
     },
     "execution_count": 51,
     "metadata": {},
     "output_type": "execute_result"
    }
   ],
   "source": [
    "y_train.shape"
   ]
  },
  {
   "cell_type": "code",
   "execution_count": 52,
   "id": "9989ab76",
   "metadata": {
    "ExecuteTime": {
     "end_time": "2022-03-10T08:53:38.563541Z",
     "start_time": "2022-03-10T08:53:36.302928Z"
    }
   },
   "outputs": [
    {
     "data": {
      "text/plain": [
       "DecisionTreeClassifier()"
      ]
     },
     "execution_count": 52,
     "metadata": {},
     "output_type": "execute_result"
    }
   ],
   "source": [
    "from sklearn.tree import DecisionTreeClassifier\n",
    "\n",
    "model= DecisionTreeClassifier()\n",
    "model.fit(x_train,y_train)"
   ]
  },
  {
   "cell_type": "code",
   "execution_count": 53,
   "id": "44a826fc",
   "metadata": {
    "ExecuteTime": {
     "end_time": "2022-03-10T08:53:40.183404Z",
     "start_time": "2022-03-10T08:53:40.143404Z"
    }
   },
   "outputs": [
    {
     "data": {
      "text/plain": [
       "priority                   0.873694\n",
       "urgency                    0.105274\n",
       "resolved_in_months         0.016140\n",
       "sys_mod_count              0.002206\n",
       "incident_state             0.000919\n",
       "knowledge                  0.000740\n",
       "reassignment_count         0.000695\n",
       "u_priority_confirmation    0.000290\n",
       "made_sla                   0.000026\n",
       "active                     0.000017\n",
       "reopen_count               0.000000\n",
       "contact_type               0.000000\n",
       "notify                     0.000000\n",
       "dtype: float64"
      ]
     },
     "execution_count": 53,
     "metadata": {},
     "output_type": "execute_result"
    }
   ],
   "source": [
    "fe = pd.Series(model.feature_importances_)\n",
    "fe.index = x_train.columns\n",
    "fe.sort_values(ascending=False)"
   ]
  },
  {
   "cell_type": "code",
   "execution_count": 54,
   "id": "8a0512da",
   "metadata": {
    "ExecuteTime": {
     "end_time": "2022-03-10T08:53:42.234074Z",
     "start_time": "2022-03-10T08:53:41.039341Z"
    }
   },
   "outputs": [
    {
     "data": {
      "text/plain": [
       "<AxesSubplot:>"
      ]
     },
     "execution_count": 54,
     "metadata": {},
     "output_type": "execute_result"
    },
    {
     "data": {
      "image/png": "[encoded data removed]",
      "text/plain": [
       "<Figure size 1080x288 with 1 Axes>"
      ]
     },
     "metadata": {
      "needs_background": "light"
     },
     "output_type": "display_data"
    }
   ],
   "source": [
    "#Vizuvalizing of  important features\n",
    "fe.sort_values(ascending=False).plot.bar(figsize=(15, 4))"
   ]
  },
  {
   "cell_type": "code",
   "execution_count": 55,
   "id": "4d19722b",
   "metadata": {
    "ExecuteTime": {
     "end_time": "2022-03-10T08:54:00.250047Z",
     "start_time": "2022-03-10T08:53:43.071150Z"
    }
   },
   "outputs": [
    {
     "data": {
      "image/png": "[encoded data removed]",
      "text/plain": [
       "<Figure size 576x396 with 1 Axes>"
      ]
     },
     "metadata": {},
     "output_type": "display_data"
    },
    {
     "data": {
      "text/plain": [
       "<AxesSubplot:title={'center':'Feature Importances of 13 Features using RandomForestClassifier'}, xlabel='relative importance'>"
      ]
     },
     "execution_count": 55,
     "metadata": {},
     "output_type": "execute_result"
    }
   ],
   "source": [
    "from yellowbrick.features import FeatureImportances\n",
    "from sklearn.ensemble import RandomForestClassifier\n",
    "\n",
    "clf=RandomForestClassifier()\n",
    "viz=FeatureImportances(clf)\n",
    "viz.fit(x,y)\n",
    "viz.poof()"
   ]
  },
  {
   "cell_type": "markdown",
   "id": "f12714b8",
   "metadata": {},
   "source": [
    "# Model Building"
   ]
  },
  {
   "cell_type": "code",
   "execution_count": 56,
   "id": "2653fef2",
   "metadata": {
    "ExecuteTime": {
     "end_time": "2022-03-09T19:41:24.340545Z",
     "start_time": "2022-03-09T19:41:24.324541Z"
    }
   },
   "outputs": [],
   "source": [
    "#Decision Tree\n",
    "DTC = DecisionTreeClassifier(max_depth = 2, \n",
    "                             random_state = 0)"
   ]
  },
  {
   "cell_type": "code",
   "execution_count": 57,
   "id": "25c6111f",
   "metadata": {
    "ExecuteTime": {
     "end_time": "2022-03-09T19:41:25.566477Z",
     "start_time": "2022-03-09T19:41:25.415261Z"
    }
   },
   "outputs": [
    {
     "data": {
      "text/plain": [
       "DecisionTreeClassifier(max_depth=2, random_state=0)"
      ]
     },
     "execution_count": 57,
     "metadata": {},
     "output_type": "execute_result"
    }
   ],
   "source": [
    "DTC.fit(x_train, y_train)"
   ]
  },
  {
   "cell_type": "code",
   "execution_count": 58,
   "id": "be23a9d5",
   "metadata": {
    "ExecuteTime": {
     "end_time": "2022-03-09T19:41:28.342254Z",
     "start_time": "2022-03-09T19:41:28.182242Z"
    }
   },
   "outputs": [
    {
     "name": "stderr",
     "output_type": "stream",
     "text": [
      "C:\\Users\\HP\\anaconda3\\lib\\site-packages\\sklearn\\base.py:450: UserWarning: X does not have valid feature names, but DecisionTreeClassifier was fitted with feature names\n",
      "  warnings.warn(\n"
     ]
    },
    {
     "data": {
      "text/plain": [
       "array([0, 0, 0, 2, 0, 0, 0, 0, 0, 0, 0, 0, 0, 0, 0, 0, 0], dtype=int64)"
      ]
     },
     "execution_count": 58,
     "metadata": {},
     "output_type": "execute_result"
    }
   ],
   "source": [
    "# Predict for 1 observation\n",
    "DTC.predict(x_test.iloc[0].values.reshape(1, -1))\n",
    "# Predict for multiple observations\n",
    "DTC.predict(x_test[0:17])"
   ]
  },
  {
   "cell_type": "code",
   "execution_count": 59,
   "id": "cc9838c3",
   "metadata": {
    "ExecuteTime": {
     "end_time": "2022-03-09T19:41:29.741840Z",
     "start_time": "2022-03-09T19:41:29.709820Z"
    }
   },
   "outputs": [
    {
     "name": "stdout",
     "output_type": "stream",
     "text": [
      "0.9869454767841181\n"
     ]
    }
   ],
   "source": [
    "# The score method returns the accuracy of the model\n",
    "score = DTC.score(x_test, y_test)\n",
    "print(score)"
   ]
  },
  {
   "cell_type": "code",
   "execution_count": 60,
   "id": "553f78cc",
   "metadata": {
    "ExecuteTime": {
     "end_time": "2022-03-09T19:41:31.217891Z",
     "start_time": "2022-03-09T19:41:31.185888Z"
    }
   },
   "outputs": [],
   "source": [
    "y_pred = DTC.predict(x_test)"
   ]
  },
  {
   "cell_type": "code",
   "execution_count": 61,
   "id": "5e003ea4",
   "metadata": {
    "ExecuteTime": {
     "end_time": "2022-03-09T19:41:34.076013Z",
     "start_time": "2022-03-09T19:41:33.352198Z"
    }
   },
   "outputs": [
    {
     "name": "stdout",
     "output_type": "stream",
     "text": [
      "[[39712    51   496]\n",
      " [    8  1164     0]\n",
      " [    0     0  1083]]\n",
      "              precision    recall  f1-score   support\n",
      "\n",
      "           0       1.00      0.99      0.99     40259\n",
      "           1       0.96      0.99      0.98      1172\n",
      "           2       0.69      1.00      0.81      1083\n",
      "\n",
      "    accuracy                           0.99     42514\n",
      "   macro avg       0.88      0.99      0.93     42514\n",
      "weighted avg       0.99      0.99      0.99     42514\n",
      "\n",
      "0.9869454767841181\n"
     ]
    }
   ],
   "source": [
    "from sklearn.metrics import classification_report, confusion_matrix,accuracy_score\n",
    "print(confusion_matrix(y_test, y_pred))\n",
    "print(classification_report(y_test, y_pred))\n",
    "print(accuracy_score(y_test,y_pred))"
   ]
  },
  {
   "cell_type": "code",
   "execution_count": 62,
   "id": "a91e126f",
   "metadata": {
    "ExecuteTime": {
     "end_time": "2022-03-09T16:55:16.137349Z",
     "start_time": "2022-03-09T16:55:14.841006Z"
    }
   },
   "outputs": [
    {
     "data": {
      "text/plain": [
       "RandomForestClassifier(max_depth=3, n_estimators=20, random_state=1)"
      ]
     },
     "execution_count": 62,
     "metadata": {},
     "output_type": "execute_result"
    }
   ],
   "source": [
    "#Random Forest\n",
    "from sklearn.ensemble import RandomForestClassifier\n",
    "RFC=RandomForestClassifier(n_estimators=20,criterion='gini',random_state=1,max_depth=3)\n",
    "RFC.fit(x_train,y_train)"
   ]
  },
  {
   "cell_type": "code",
   "execution_count": 63,
   "id": "f6a14538",
   "metadata": {
    "ExecuteTime": {
     "end_time": "2022-03-09T16:55:19.997330Z",
     "start_time": "2022-03-09T16:55:19.859232Z"
    }
   },
   "outputs": [],
   "source": [
    "y_pred=RFC.predict(x_test)"
   ]
  },
  {
   "cell_type": "code",
   "execution_count": 64,
   "id": "8b3fffb6",
   "metadata": {
    "ExecuteTime": {
     "end_time": "2022-03-09T16:55:21.608646Z",
     "start_time": "2022-03-09T16:55:21.448773Z"
    }
   },
   "outputs": [
    {
     "name": "stdout",
     "output_type": "stream",
     "text": [
      "[[40208    51     0]\n",
      " [   95  1077     0]\n",
      " [ 1083     0     0]]\n",
      "              precision    recall  f1-score   support\n",
      "\n",
      "           0       0.97      1.00      0.98     40259\n",
      "           1       0.95      0.92      0.94      1172\n",
      "           2       0.00      0.00      0.00      1083\n",
      "\n",
      "    accuracy                           0.97     42514\n",
      "   macro avg       0.64      0.64      0.64     42514\n",
      "weighted avg       0.95      0.97      0.96     42514\n",
      "\n",
      "0.9710918756174437\n"
     ]
    },
    {
     "name": "stderr",
     "output_type": "stream",
     "text": [
      "C:\\Users\\HP\\anaconda3\\lib\\site-packages\\sklearn\\metrics\\_classification.py:1318: UndefinedMetricWarning: Precision and F-score are ill-defined and being set to 0.0 in labels with no predicted samples. Use `zero_division` parameter to control this behavior.\n",
      "  _warn_prf(average, modifier, msg_start, len(result))\n",
      "C:\\Users\\HP\\anaconda3\\lib\\site-packages\\sklearn\\metrics\\_classification.py:1318: UndefinedMetricWarning: Precision and F-score are ill-defined and being set to 0.0 in labels with no predicted samples. Use `zero_division` parameter to control this behavior.\n",
      "  _warn_prf(average, modifier, msg_start, len(result))\n",
      "C:\\Users\\HP\\anaconda3\\lib\\site-packages\\sklearn\\metrics\\_classification.py:1318: UndefinedMetricWarning: Precision and F-score are ill-defined and being set to 0.0 in labels with no predicted samples. Use `zero_division` parameter to control this behavior.\n",
      "  _warn_prf(average, modifier, msg_start, len(result))\n"
     ]
    }
   ],
   "source": [
    "from sklearn.metrics import classification_report, confusion_matrix,accuracy_score\n",
    "print(confusion_matrix(y_test, y_pred))\n",
    "print(classification_report(y_test, y_pred))\n",
    "print(accuracy_score(y_test,y_pred))"
   ]
  },
  {
   "cell_type": "code",
   "execution_count": 65,
   "id": "9484bbba",
   "metadata": {
    "ExecuteTime": {
     "end_time": "2022-03-09T13:14:36.735571Z",
     "start_time": "2022-03-09T13:14:26.019200Z"
    }
   },
   "outputs": [],
   "source": [
    "#KNeighbors\n",
    "from sklearn.neighbors import KNeighborsClassifier\n",
    "from sklearn.datasets import load_iris"
   ]
  },
  {
   "cell_type": "code",
   "execution_count": 66,
   "id": "3da0c8ed",
   "metadata": {
    "ExecuteTime": {
     "end_time": "2022-03-03T04:09:36.683983Z",
     "start_time": "2022-03-03T04:09:36.412801Z"
    }
   },
   "outputs": [],
   "source": [
    "ID = load_iris()"
   ]
  },
  {
   "cell_type": "code",
   "execution_count": 67,
   "id": "e8ec791d",
   "metadata": {
    "ExecuteTime": {
     "end_time": "2022-03-03T04:09:37.689377Z",
     "start_time": "2022-03-03T04:09:37.674918Z"
    }
   },
   "outputs": [],
   "source": [
    "neighbors = np.arange(1, 9)\n",
    "train_accuracy = np.empty(len(neighbors))\n",
    "test_accuracy = np.empty(len(neighbors))"
   ]
  },
  {
   "cell_type": "code",
   "execution_count": 68,
   "id": "062e8da7",
   "metadata": {
    "ExecuteTime": {
     "end_time": "2022-03-03T04:09:38.912009Z",
     "start_time": "2022-03-03T04:09:38.622789Z"
    }
   },
   "outputs": [],
   "source": [
    "# Loop over K values\n",
    "for i, k in enumerate(neighbors):\n",
    "    KNN= KNeighborsClassifier(n_neighbors=k)\n",
    "    KNN.fit(x_train, y_train)"
   ]
  },
  {
   "cell_type": "code",
   "execution_count": 69,
   "id": "36c3bb4e",
   "metadata": {
    "ExecuteTime": {
     "end_time": "2022-03-03T04:27:17.669653Z",
     "start_time": "2022-03-03T04:09:39.870575Z"
    }
   },
   "outputs": [],
   "source": [
    " # Compute train and test data accuracy\n",
    "train_accuracy[i] = KNN.score(x_train, y_train)\n",
    "test_accuracy[i] = KNN.score(x_test, y_test)"
   ]
  },
  {
   "cell_type": "code",
   "execution_count": 70,
   "id": "4d8f6f95",
   "metadata": {
    "ExecuteTime": {
     "end_time": "2022-03-03T04:33:53.333378Z",
     "start_time": "2022-03-03T04:30:53.888911Z"
    }
   },
   "outputs": [
    {
     "name": "stdout",
     "output_type": "stream",
     "text": [
      "0.9833701839394082\n"
     ]
    }
   ],
   "source": [
    "# Calculate the accuracy of the model\n",
    "print(KNN.score(x_test, y_test))  "
   ]
  },
  {
   "cell_type": "code",
   "execution_count": 71,
   "id": "57f22eff",
   "metadata": {
    "ExecuteTime": {
     "end_time": "2022-03-03T04:34:13.288342Z",
     "start_time": "2022-03-03T04:33:55.509547Z"
    }
   },
   "outputs": [
    {
     "data": {
      "text/plain": [
       "GaussianNB()"
      ]
     },
     "execution_count": 71,
     "metadata": {},
     "output_type": "execute_result"
    }
   ],
   "source": [
    "#GaussianNB\n",
    "from sklearn.naive_bayes import GaussianNB\n",
    "NB = GaussianNB()\n",
    "NB.fit(x_train, y_train)"
   ]
  },
  {
   "cell_type": "code",
   "execution_count": 72,
   "id": "f25c9b79",
   "metadata": {
    "ExecuteTime": {
     "end_time": "2022-03-03T04:34:17.718446Z",
     "start_time": "2022-03-03T04:34:17.173056Z"
    }
   },
   "outputs": [],
   "source": [
    "y_pred  =NB.predict(x_test)"
   ]
  },
  {
   "cell_type": "code",
   "execution_count": 73,
   "id": "25054b16",
   "metadata": {
    "ExecuteTime": {
     "end_time": "2022-03-03T04:34:18.696728Z",
     "start_time": "2022-03-03T04:34:17.721449Z"
    }
   },
   "outputs": [
    {
     "data": {
      "text/plain": [
       "array([0, 0, 0, ..., 0, 0, 2], dtype=int64)"
      ]
     },
     "execution_count": 73,
     "metadata": {},
     "output_type": "execute_result"
    }
   ],
   "source": [
    " y_pred  "
   ]
  },
  {
   "cell_type": "code",
   "execution_count": 74,
   "id": "68390af3",
   "metadata": {
    "ExecuteTime": {
     "end_time": "2022-03-03T04:34:19.174787Z",
     "start_time": "2022-03-03T04:34:18.698809Z"
    }
   },
   "outputs": [
    {
     "data": {
      "text/plain": [
       "115643    0\n",
       "72508     0\n",
       "131125    0\n",
       "7309      2\n",
       "128822    0\n",
       "         ..\n",
       "132802    0\n",
       "9434      0\n",
       "91785     0\n",
       "98154     0\n",
       "49303     0\n",
       "Name: impact, Length: 42514, dtype: int64"
      ]
     },
     "execution_count": 74,
     "metadata": {},
     "output_type": "execute_result"
    }
   ],
   "source": [
    "y_test"
   ]
  },
  {
   "cell_type": "code",
   "execution_count": 75,
   "id": "c96d54fa",
   "metadata": {
    "ExecuteTime": {
     "end_time": "2022-03-03T04:34:24.822692Z",
     "start_time": "2022-03-03T04:34:19.178789Z"
    }
   },
   "outputs": [
    {
     "name": "stdout",
     "output_type": "stream",
     "text": [
      "[[39683    55   521]\n",
      " [    0  1153    19]\n",
      " [    0     0  1083]]\n",
      "              precision    recall  f1-score   support\n",
      "\n",
      "           0       1.00      0.99      0.99     40259\n",
      "           1       0.95      0.98      0.97      1172\n",
      "           2       0.67      1.00      0.80      1083\n",
      "\n",
      "    accuracy                           0.99     42514\n",
      "   macro avg       0.87      0.99      0.92     42514\n",
      "weighted avg       0.99      0.99      0.99     42514\n",
      "\n",
      "0.9860046102460366\n"
     ]
    }
   ],
   "source": [
    "from sklearn.metrics import classification_report, confusion_matrix,accuracy_score\n",
    "print(confusion_matrix(y_test, y_pred))\n",
    "print(classification_report(y_test, y_pred))\n",
    "print(accuracy_score(y_test,y_pred))"
   ]
  },
  {
   "cell_type": "code",
   "execution_count": 76,
   "id": "266f1fd8",
   "metadata": {
    "ExecuteTime": {
     "end_time": "2022-03-10T08:55:23.214447Z",
     "start_time": "2022-03-10T08:55:23.210443Z"
    }
   },
   "outputs": [],
   "source": [
    "#Gradient Boosting\n",
    "from sklearn.ensemble import GradientBoostingClassifier"
   ]
  },
  {
   "cell_type": "code",
   "execution_count": 77,
   "id": "7b35a280",
   "metadata": {
    "ExecuteTime": {
     "end_time": "2022-03-10T08:55:24.429847Z",
     "start_time": "2022-03-10T08:55:24.352774Z"
    }
   },
   "outputs": [],
   "source": [
    "state = 12  \n",
    "test_size = 0.30  \n",
    "  \n",
    "x_train, x_val, y_train, y_val = train_test_split(x_train, y_train,  \n",
    "    test_size=test_size, random_state=state)"
   ]
  },
  {
   "cell_type": "code",
   "execution_count": 78,
   "id": "62a19a34",
   "metadata": {
    "ExecuteTime": {
     "end_time": "2022-03-10T08:55:49.024428Z",
     "start_time": "2022-03-10T08:55:26.674041Z"
    }
   },
   "outputs": [
    {
     "name": "stdout",
     "output_type": "stream",
     "text": [
      "Learning rate:  0.05\n",
      "Accuracy score (training): 0.969\n",
      "Accuracy score (validation): 0.971\n",
      "Learning rate:  0.075\n",
      "Accuracy score (training): 0.976\n",
      "Accuracy score (validation): 0.977\n",
      "Learning rate:  0.1\n",
      "Accuracy score (training): 0.986\n",
      "Accuracy score (validation): 0.986\n",
      "Learning rate:  0.25\n",
      "Accuracy score (training): 0.996\n",
      "Accuracy score (validation): 0.996\n",
      "Learning rate:  0.5\n",
      "Accuracy score (training): 0.981\n",
      "Accuracy score (validation): 0.981\n",
      "Learning rate:  0.75\n",
      "Accuracy score (training): 0.943\n",
      "Accuracy score (validation): 0.947\n",
      "Learning rate:  1\n",
      "Accuracy score (training): 0.243\n",
      "Accuracy score (validation): 0.241\n"
     ]
    }
   ],
   "source": [
    "lr_list = [0.05, 0.075, 0.1, 0.25, 0.5, 0.75, 1]\n",
    "\n",
    "for learning_rate in lr_list:\n",
    "    gb_clf = GradientBoostingClassifier(n_estimators=20, learning_rate=learning_rate, max_features=2, max_depth=2, random_state=0)\n",
    "    gb_clf.fit(x_train, y_train)\n",
    "\n",
    "    print(\"Learning rate: \", learning_rate)\n",
    "    print(\"Accuracy score (training): {0:.3f}\".format(gb_clf.score(x_train, y_train)))\n",
    "    print(\"Accuracy score (validation): {0:.3f}\".format(gb_clf.score(x_val, y_val)))"
   ]
  },
  {
   "cell_type": "code",
   "execution_count": 79,
   "id": "a1d8fa82",
   "metadata": {
    "ExecuteTime": {
     "end_time": "2022-03-10T08:56:18.805084Z",
     "start_time": "2022-03-10T08:56:15.682737Z"
    }
   },
   "outputs": [
    {
     "name": "stdout",
     "output_type": "stream",
     "text": [
      "Confusion Matrix:\n",
      "[[28058    28   220]\n",
      " [   89   697     0]\n",
      " [  233     0   435]]\n",
      "Classification Report\n",
      "              precision    recall  f1-score   support\n",
      "\n",
      "           0       0.99      0.99      0.99     28306\n",
      "           1       0.96      0.89      0.92       786\n",
      "           2       0.66      0.65      0.66       668\n",
      "\n",
      "    accuracy                           0.98     29760\n",
      "   macro avg       0.87      0.84      0.86     29760\n",
      "weighted avg       0.98      0.98      0.98     29760\n",
      "\n"
     ]
    }
   ],
   "source": [
    "gb_clf2 = GradientBoostingClassifier(n_estimators=20, learning_rate=0.5, max_features=2, max_depth=2, random_state=0)\n",
    "gb_clf2.fit(x_train, y_train)\n",
    "predictions = gb_clf2.predict(x_val)\n",
    "\n",
    "print(\"Confusion Matrix:\")\n",
    "print(confusion_matrix(y_val, predictions))\n",
    "\n",
    "print(\"Classification Report\")\n",
    "print(classification_report(y_val, predictions))"
   ]
  },
  {
   "cell_type": "code",
   "execution_count": 80,
   "id": "2acf7fcb",
   "metadata": {
    "ExecuteTime": {
     "end_time": "2022-03-10T08:54:40.455589Z",
     "start_time": "2022-03-10T08:54:39.438879Z"
    }
   },
   "outputs": [],
   "source": [
    "#XGBM\n",
    "from xgboost import XGBClassifier"
   ]
  },
  {
   "cell_type": "code",
   "execution_count": 81,
   "id": "9bc7f7fa",
   "metadata": {
    "ExecuteTime": {
     "end_time": "2022-03-10T08:55:00.291614Z",
     "start_time": "2022-03-10T08:54:42.492631Z"
    }
   },
   "outputs": [
    {
     "name": "stderr",
     "output_type": "stream",
     "text": [
      "C:\\Users\\HP\\anaconda3\\lib\\site-packages\\xgboost\\sklearn.py:1224: UserWarning: The use of label encoder in XGBClassifier is deprecated and will be removed in a future release. To remove this warning, do the following: 1) Pass option use_label_encoder=False when constructing XGBClassifier object; and 2) Encode your labels (y) as integers starting with 0, i.e. 0, 1, 2, ..., [num_class - 1].\n",
      "  warnings.warn(label_encoder_deprecation_msg, UserWarning)\n"
     ]
    },
    {
     "name": "stdout",
     "output_type": "stream",
     "text": [
      "[15:48:08] WARNING: C:/Users/Administrator/workspace/xgboost-win64_release_1.5.1/src/learner.cc:1115: Starting in XGBoost 1.3.0, the default evaluation metric used with the objective 'multi:softprob' was changed from 'merror' to 'mlogloss'. Explicitly set eval_metric if you'd like to restore the old behavior.\n"
     ]
    },
    {
     "data": {
      "text/plain": [
       "XGBClassifier(base_score=0.5, booster='gbtree', colsample_bylevel=1,\n",
       "              colsample_bynode=1, colsample_bytree=1, enable_categorical=False,\n",
       "              gamma=0, gpu_id=-1, importance_type=None,\n",
       "              interaction_constraints='', learning_rate=0.300000012,\n",
       "              max_delta_step=0, max_depth=6, min_child_weight=1, missing=nan,\n",
       "              monotone_constraints='()', n_estimators=100, n_jobs=8,\n",
       "              num_parallel_tree=1, objective='multi:softprob', predictor='auto',\n",
       "              random_state=0, reg_alpha=0, reg_lambda=1, scale_pos_weight=None,\n",
       "              subsample=1, tree_method='exact', validate_parameters=1,\n",
       "              verbosity=None)"
      ]
     },
     "execution_count": 81,
     "metadata": {},
     "output_type": "execute_result"
    }
   ],
   "source": [
    "xgb_clf = XGBClassifier()\n",
    "xgb_clf.fit(x_train, y_train)"
   ]
  },
  {
   "cell_type": "code",
   "execution_count": 82,
   "id": "48257691",
   "metadata": {
    "ExecuteTime": {
     "end_time": "2022-03-10T08:55:08.603041Z",
     "start_time": "2022-03-10T08:55:04.662962Z"
    }
   },
   "outputs": [
    {
     "name": "stdout",
     "output_type": "stream",
     "text": [
      "0.9995295698924731\n"
     ]
    }
   ],
   "source": [
    "score = xgb_clf.score(x_val, y_val)\n",
    "print(score)"
   ]
  },
  {
   "cell_type": "markdown",
   "id": "e1cbc7fc",
   "metadata": {
    "ExecuteTime": {
     "start_time": "2022-03-09T04:39:58.060Z"
    }
   },
   "source": [
    "#### Considering XGB Classifier as it has given the best accuracy of 99.99%"
   ]
  },
  {
   "cell_type": "code",
   "execution_count": 83,
   "id": "bd069e04",
   "metadata": {
    "ExecuteTime": {
     "end_time": "2022-03-10T08:37:02.861038Z",
     "start_time": "2022-03-10T08:37:02.464714Z"
    }
   },
   "outputs": [],
   "source": [
    "import pickle\n",
    "\n",
    "file=open('project_incident_impact1.pkl','wb')\n",
    "pickle.dump(xgb_clf,file)\n",
    "file.close()"
   ]
  },
  {
   "cell_type": "code",
   "execution_count": null,
   "id": "9979b40d",
   "metadata": {},
   "outputs": [],
   "source": []
  },
  {
   "cell_type": "code",
   "execution_count": null,
   "id": "742b3519",
   "metadata": {},
   "outputs": [],
   "source": []
  }
 ],
 "metadata": {
  "kernelspec": {
   "display_name": "Python 3",
   "language": "python",
   "name": "python3"
  },
  "language_info": {
   "codemirror_mode": {
    "name": "ipython",
    "version": 3
   },
   "file_extension": ".py",
   "mimetype": "text/x-python",
   "name": "python",
   "nbconvert_exporter": "python",
   "pygments_lexer": "ipython3",
   "version": "3.8.8"
  },
  "varInspector": {
   "cols": {
    "lenName": 16,
    "lenType": 16,
    "lenVar": 40
   },
   "kernels_config": {
    "python": {
     "delete_cmd_postfix": "",
     "delete_cmd_prefix": "del ",
     "library": "var_list.py",
     "varRefreshCmd": "print(var_dic_list())"
    },
    "r": {
     "delete_cmd_postfix": ") ",
     "delete_cmd_prefix": "rm(",
     "library": "var_list.r",
     "varRefreshCmd": "cat(var_dic_list()) "
    }
   },
   "types_to_exclude": [
    "module",
    "function",
    "builtin_function_or_method",
    "instance",
    "_Feature"
   ],
   "window_display": false
  }
 },
 "nbformat": 4,
 "nbformat_minor": 5
}
